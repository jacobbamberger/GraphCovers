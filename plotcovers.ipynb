{
 "cells": [
  {
   "cell_type": "code",
   "execution_count": 1,
   "id": "e131d3a7-b130-4c80-beed-fb9406a403f5",
   "metadata": {},
   "outputs": [],
   "source": [
    "import torch_geometric\n",
    "from torch_geometric.data import Data\n",
    "import torch\n",
    "from itertools import product, permutations\n",
    "from math import factorial\n",
    "import networkx as nx\n",
    "from covering import *\n",
    "from scipy.linalg import eigh\n",
    "import numpy as np\n",
    "\n",
    "import plotly.graph_objects as go"
   ]
  },
  {
   "cell_type": "code",
   "execution_count": 2,
   "id": "187ea922-d832-4b2e-bd88-0d8a6332378a",
   "metadata": {},
   "outputs": [],
   "source": [
    "dataset = torch.load(\"deg5_withcolouring.pt\")"
   ]
  },
  {
   "cell_type": "code",
   "execution_count": 3,
   "id": "94ba8e52-6f2c-4327-8012-0747dcb3988a",
   "metadata": {},
   "outputs": [
    {
     "data": {
      "image/png": "[encoded data removed]",
      "text/plain": [
       "<Figure size 432x288 with 1 Axes>"
      ]
     },
     "metadata": {},
     "output_type": "display_data"
    }
   ],
   "source": [
    "edge_index = torch.tensor([[0, 1], [1, 0],\n",
    "                          [1, 2], [2, 1],\n",
    "                          [2, 3], [3, 2],\n",
    "                          [2, 4], [4, 2],\n",
    "                          [3, 4], [4, 3],\n",
    "                          [4, 5], [5, 4],\n",
    "                          [5, 6], [6, 5],\n",
    "                          [5, 8], [8, 5],\n",
    "                          [6, 7], [7, 6],\n",
    "                          [6, 8], [8, 6]],\n",
    "                          # [8, 9], [9, 8],\n",
    "                          # [9, 10], [10, 9],\n",
    "                          # [10, 11], [11, 10]]\n",
    "                           dtype=torch.long)\n",
    "\n",
    "cycle_edge = [[2, 4], [5, 6]]\n",
    "\n",
    "x = torch.tensor([[0], [0], [0], [0],\n",
    "                  [0], [0], [0], [0],\n",
    "                  [0]], dtype=torch.long)\n",
    "\n",
    "data = Data(x=x, edge_index = edge_index.t().contiguous())\n",
    "\n",
    "\n",
    "\n",
    "base = nx.Graph(edge_index.tolist())\n",
    "nx.draw(base)"
   ]
  },
  {
   "cell_type": "code",
   "execution_count": 6,
   "id": "92e1b3d7-0c3c-4e4b-b442-ba3f1c507040",
   "metadata": {},
   "outputs": [
    {
     "name": "stdout",
     "output_type": "stream",
     "text": [
      "total number of covers to check:  4\n",
      "3\n"
     ]
    }
   ],
   "source": [
    "L = generate_with_cycle_data(data, k=2, cycle_edge=cycle_edge, stop=50)\n",
    "print(len(L))\n",
    "dataset = [l[0] for l in L]"
   ]
  },
  {
   "cell_type": "code",
   "execution_count": null,
   "id": "4a8dbe2d-8908-43d8-8ea6-869c7634cde5",
   "metadata": {},
   "outputs": [],
   "source": []
  },
  {
   "cell_type": "code",
   "execution_count": 7,
   "id": "4f14f735-ac0f-4576-adad-287cb096c951",
   "metadata": {},
   "outputs": [],
   "source": [
    "coord = {0: [-4., 0.],\n",
    "            1: [-3., 0.],\n",
    "            2: [-2., 0.],\n",
    "            4: [-1., 0.],\n",
    "            5: [0., 0.],\n",
    "            6: [1., 0.],\n",
    "            7: [2., 0.],\n",
    "            3: [-1.5, np.sqrt(0.75)],\n",
    "            8: [0.5, np.sqrt(0.75)]}\n",
    "# xs = [coord[i][0] for i in range(9)]+[]\n",
    "# ys = [coord[i][1] for i in range(9)]+[]\n",
    "# zs = [0 for i in range(9)]\n",
    "for i in range(9):\n",
    "    base.nodes[i]['pos'] = (coord[i][0], coord[i][1], 0)"
   ]
  },
  {
   "cell_type": "code",
   "execution_count": 60,
   "id": "cc95482c-3900-4406-8a6b-f70eedf40e35",
   "metadata": {},
   "outputs": [],
   "source": [
    "G = base\n",
    "\n",
    "\n",
    "edge_x = []\n",
    "edge_y = []\n",
    "edge_z = []\n",
    "\n",
    "# Get coordinates of edges\n",
    "for edge in G.edges():\n",
    "    x0, y0, z0 = G.nodes[edge[0]]['pos']\n",
    "    x1, y1, z1 = G.nodes[edge[1]]['pos']\n",
    "    edge_x.append(x0)\n",
    "    edge_x.append(x1)\n",
    "    edge_x.append(None)\n",
    "    edge_y.append(y0)\n",
    "    edge_y.append(y1)\n",
    "    edge_y.append(None)\n",
    "    edge_z.append(z0)\n",
    "    edge_z.append(z1)\n",
    "    edge_z.append(None)\n",
    "\n",
    "# plot all edges\n",
    "edge_trace = go.Scatter3d(\n",
    "    x=edge_x, y=edge_y, z=edge_z,\n",
    "    line=dict(width=5, color='#888'),\n",
    "    hoverinfo='none',\n",
    "    mode='lines')\n",
    "\n",
    "node_x = []\n",
    "node_y = []\n",
    "node_z = []\n",
    "\n",
    "# get node coordinates\n",
    "for node in G.nodes():\n",
    "    x, y, z = G.nodes[node]['pos']\n",
    "    node_x.append(x)\n",
    "    node_y.append(y)\n",
    "    node_z.append(z)\n",
    "\n",
    "# plot nodes\n",
    "node_trace = go.Scatter3d(\n",
    "    x=node_x, y=node_y, z=node_z,\n",
    "    mode='markers',\n",
    "    hoverinfo='text',\n",
    "    marker=dict(\n",
    "        showscale=False,\n",
    "        # colorscale options\n",
    "        #'Greys' | 'YlGnBu' | 'Greens' | 'YlOrRd' | 'Bluered' | 'RdBu' |\n",
    "        #'Reds' | 'Blues' | 'Picnic' | 'Rainbow' | 'Portland' | 'Jet' |\n",
    "        #'Hot' | 'Blackbody' | 'Earth' | 'Electric' | 'Viridis' |\n",
    "        colorscale='YlGnBu',\n",
    "        reversescale=True,\n",
    "        color=np.arange(0, 1, 1/len(G.nodes())),\n",
    "        size=10,\n",
    "        # colorbar=dict(\n",
    "        #     thickness=15,\n",
    "        #     title='Node Connections',\n",
    "        #     xanchor='left',\n",
    "        #     titleside='right'\n",
    "        # ),\n",
    "        line_width=2))\n",
    "\n",
    "# plot figure\n",
    "fig = go.Figure(data=[edge_trace, node_trace],\n",
    "             # layout=go.Layout(\n",
    "             #    title='<br>Network graph made with Python',\n",
    "             #    titlefont_size=16,\n",
    "             #    showlegend=False,\n",
    "             #    hovermode='closest',\n",
    "             #    margin=dict(b=20,l=5,r=5,t=40),\n",
    "             #    # annotations=[ dict(\n",
    "             #    #     text=\"Python code: <a href='https://plotly.com/ipython-notebooks/network-graphs/'> https://plotly.com/ipython-notebooks/network-graphs/</a>\",\n",
    "             #    #     showarrow=False,\n",
    "             #    #     xref=\"paper\", yref=\"paper\",\n",
    "             #    #     x=0.005, y=-0.002 ) ],\n",
    "             #    xaxis=dict(showgrid=False, zeroline=False, showticklabels=False),\n",
    "             #    yaxis=dict(showgrid=False, zeroline=False, showticklabels=False))\n",
    "                )\n",
    "\n",
    "# plot figure\n",
    "fig = go.Figure(data=[edge_trace, node_trace]\n",
    "               )\n",
    "\n",
    "# setting the right zoom and size\n",
    "fig.update_layout(width=1400,\n",
    "                  height=700,\n",
    "                  scene = dict(aspectratio = dict(x=1, y=0.2, z=0.7 )),\n",
    "                  showlegend=False\n",
    "                 )\n",
    "    \n",
    "# Removing background etc \n",
    "fig.update_layout(scene = dict(\n",
    "                xaxis = dict(\n",
    "                     #backgroundcolor=\"rgb(0, 0, 0)\",\n",
    "                     #gridcolor=\"white\",\n",
    "                     showbackground=False,\n",
    "                     showgrid=False,\n",
    "                     #showticklabels=False,\n",
    "                     visible=False,\n",
    "                     #zerolinecolor=\"white\",\n",
    "                ),\n",
    "                yaxis = dict(\n",
    "                    #backgroundcolor=\"rgb(0, 0, 0)\",\n",
    "                    #gridcolor=\"white\",\n",
    "                    showbackground=False,\n",
    "                    showgrid=False,\n",
    "                    #showticklabels=False,\n",
    "                    visible=False,\n",
    "                    #zerolinecolor=\"white\"\n",
    "                ),\n",
    "                zaxis = dict(\n",
    "                    #backgroundcolor=\"rgb(0, 0, 0)\",\n",
    "                    #gridcolor=\"white\",\n",
    "                    showbackground=False,\n",
    "                    showgrid=False,\n",
    "                    #showticklabels=False,\n",
    "                    visible=False,\n",
    "                    #zerolinecolor=\"white\",\n",
    "                ),\n",
    "                # width=700,\n",
    "                # margin=dict(\n",
    "                # r=10, l=10,\n",
    "                # b=10, t=10)\n",
    "                camera=dict(\n",
    "                        up=dict(\n",
    "                            x=0,\n",
    "                            y=0,\n",
    "                            z=1\n",
    "                        ),\n",
    "                        eye=dict(\n",
    "                            x=0.1,\n",
    "                            y=-1,\n",
    "                            z=0.5,\n",
    "                        )\n",
    "                    ),\n",
    "              ))\n",
    "\n",
    "fig.write_image(\"images/base2.pdf\")\n",
    "#fig.show()"
   ]
  },
  {
   "cell_type": "code",
   "execution_count": 59,
   "id": "0c1f43b4-611d-485e-bae6-7218f9c4705b",
   "metadata": {},
   "outputs": [],
   "source": [
    "k=20\n",
    "G = nx.Graph(dataset[k].edge_index.t().tolist())"
   ]
  },
  {
   "cell_type": "code",
   "execution_count": 33,
   "id": "8a0ff0f6-29fd-4ab4-8e90-57347fc1ea90",
   "metadata": {},
   "outputs": [],
   "source": [
    "# set base coordinates\n",
    "eps=1+10**(-5)\n",
    "coord = {0: [-4., 0.],\n",
    "        1: [-3., 0.],\n",
    "        2: [-2., 0.],\n",
    "        4: [-1., 0.],\n",
    "        5: [0., 0.],\n",
    "        6: [1., 0.],\n",
    "        7: [2., 0.],\n",
    "        3: [-1.5, np.sqrt(0.75)],\n",
    "        8: [0.5, np.sqrt(0.75)]}\n",
    "for i in range(9):\n",
    "    base.nodes[i]['pos'] = (coord[i][0], coord[i][1], 0.)\n",
    "\n",
    "# set cover coordinates\n",
    "size = len(G.nodes())\n",
    "scale = 0.5\n",
    "for i in range(size):\n",
    "    #print(float(i//9), size/9)\n",
    "    #print(i, float(i//9), size/(2*9), ((float(i//9)-size/(2*9))**2)/(size/(2*9))**2, base.nodes[i%9]['pos'][1] + (float(i//9)-size/(2*9))**2)\n",
    "    G.nodes[i]['pos'] = (base.nodes[i%9]['pos'][0],\n",
    "                         base.nodes[i%9]['pos'][1] - ((float(i//9)-np.round(size/(2*9)))**2)/(np.round(size/(2*9))*(size/(2*9)))**2, #+ np.log(float(i//9)+eps)-np.log(eps),\n",
    "                         base.nodes[i%9]['pos'][2]+scale*float(i//9))"
   ]
  },
  {
   "cell_type": "code",
   "execution_count": 40,
   "id": "1788bcc3-8af1-48f7-bfa0-96f73042729e",
   "metadata": {},
   "outputs": [],
   "source": [
    "def cover_ploter(G):\n",
    "    # set base coordinates\n",
    "    eps=1+10**(-5)\n",
    "    coord = {0: [-4., 0.],\n",
    "            1: [-3., 0.],\n",
    "            2: [-2., 0.],\n",
    "            4: [-1., 0.],\n",
    "            5: [0., 0.],\n",
    "            6: [1., 0.],\n",
    "            7: [2., 0.],\n",
    "            3: [-1.5, np.sqrt(0.75)],\n",
    "            8: [0.5, np.sqrt(0.75)]}\n",
    "    for i in range(9):\n",
    "        base.nodes[i]['pos'] = (coord[i][0], coord[i][1], 0.)\n",
    "\n",
    "    # set cover coordinates\n",
    "    size = len(G.nodes())\n",
    "    scale = 0.5\n",
    "    for i in range(size):\n",
    "        #print(float(i//9), size/9)\n",
    "        #print(i, float(i//9), size/(2*9), ((float(i//9)-size/(2*9))**2)/(size/(2*9))**2, base.nodes[i%9]['pos'][1] + (float(i//9)-size/(2*9))**2)\n",
    "        G.nodes[i]['pos'] = (base.nodes[i%9]['pos'][0],\n",
    "                             base.nodes[i%9]['pos'][1], # - ((float(i//9)-np.round(size/(2*9)))**2)/(np.round(size/(2*9))*(size/(2*9)))**2, #+ np.log(float(i//9)+eps)-np.log(eps),\n",
    "                             base.nodes[i%9]['pos'][2]+scale*float(i//9))\n",
    "\n",
    "    edge_x = []\n",
    "    edge_y = []\n",
    "    edge_z = []\n",
    "\n",
    "    # Get coordinates of edges\n",
    "    for edge in G.edges():\n",
    "        x0, y0, z0 = G.nodes[edge[0]]['pos']\n",
    "        x1, y1, z1 = G.nodes[edge[1]]['pos']\n",
    "        edge_x.append(x0)\n",
    "        edge_x.append(x1)\n",
    "        edge_x.append(None)\n",
    "        edge_y.append(y0)\n",
    "        edge_y.append(y1)\n",
    "        edge_y.append(None)\n",
    "        edge_z.append(z0)\n",
    "        edge_z.append(z1)\n",
    "        edge_z.append(None)\n",
    "\n",
    "    # plot all edges\n",
    "    edge_trace = go.Scatter3d(\n",
    "        x=edge_x, y=edge_y, z=edge_z,\n",
    "        line=dict(width=5, color='#888'),\n",
    "        hoverinfo='none',\n",
    "        mode='lines')\n",
    "\n",
    "    node_x = []\n",
    "    node_y = []\n",
    "    node_z = []\n",
    "\n",
    "    # get node coordinates\n",
    "    for node in G.nodes():\n",
    "        x, y, z = G.nodes[node]['pos']\n",
    "        node_x.append(x)\n",
    "        node_y.append(y)\n",
    "        node_z.append(z)\n",
    "\n",
    "    # plot nodes\n",
    "    node_trace = go.Scatter3d(\n",
    "        x=node_x, y=node_y, z=node_z,\n",
    "        mode='markers',\n",
    "        hoverinfo='text',\n",
    "        marker=dict(\n",
    "            showscale=False,\n",
    "            # colorscale options\n",
    "            #'Greys' | 'YlGnBu' | 'Greens' | 'YlOrRd' | 'Bluered' | 'RdBu' |\n",
    "            #'Reds' | 'Blues' | 'Picnic' | 'Rainbow' | 'Portland' | 'Jet' |\n",
    "            #'Hot' | 'Blackbody' | 'Earth' | 'Electric' | 'Viridis' |\n",
    "            colorscale='YlGnBu',\n",
    "            reversescale=True,\n",
    "            color=np.arange(0, 1, 1/len(G.nodes())),\n",
    "            size=10,\n",
    "            # colorbar=dict(\n",
    "            #     thickness=15,\n",
    "            #     title='Node Connections',\n",
    "            #     xanchor='left',\n",
    "            #     titleside='right'\n",
    "            # ),\n",
    "            line_width=2))\n",
    "\n",
    "    # plot figure\n",
    "    fig = go.Figure(data=[edge_trace, node_trace]\n",
    "                   )\n",
    "    \n",
    "    # setting the right zoom and size\n",
    "    fig.update_layout(width=1000,\n",
    "                      height=700,\n",
    "                      scene = dict(aspectratio = dict(x=1, y=0.2, z=0.7 )),\n",
    "                      showlegend=False\n",
    "                     )\n",
    "    \n",
    "    # Removing background etc \n",
    "    fig.update_layout(scene = dict(\n",
    "                    xaxis = dict(\n",
    "                         #backgroundcolor=\"rgb(0, 0, 0)\",\n",
    "                         #gridcolor=\"white\",\n",
    "                         showbackground=False,\n",
    "                         showgrid=False,\n",
    "                         #showticklabels=False,\n",
    "                         visible=False,\n",
    "                         #zerolinecolor=\"white\",\n",
    "                    ),\n",
    "                    yaxis = dict(\n",
    "                        #backgroundcolor=\"rgb(0, 0, 0)\",\n",
    "                        #gridcolor=\"white\",\n",
    "                        showbackground=False,\n",
    "                        showgrid=False,\n",
    "                        #showticklabels=False,\n",
    "                        visible=False,\n",
    "                        #zerolinecolor=\"white\"\n",
    "                    ),\n",
    "                    zaxis = dict(\n",
    "                        #backgroundcolor=\"rgb(0, 0, 0)\",\n",
    "                        #gridcolor=\"white\",\n",
    "                        showbackground=False,\n",
    "                        showgrid=False,\n",
    "                        #showticklabels=False,\n",
    "                        visible=False,\n",
    "                        #zerolinecolor=\"white\",\n",
    "                    ),\n",
    "                    # width=700,\n",
    "                    # margin=dict(\n",
    "                    # r=10, l=10,\n",
    "                    # b=10, t=10)\n",
    "                    camera=dict(\n",
    "                            up=dict(\n",
    "                                x=0,\n",
    "                                y=0,\n",
    "                                z=1\n",
    "                            ),\n",
    "                            eye=dict(\n",
    "                                x=0.1,\n",
    "                                y=-1,\n",
    "                                z=0.5,\n",
    "                            )\n",
    "                        ),\n",
    "                  ))\n",
    "\n",
    "    return fig\n",
    "    #fig.show()\n",
    "    \n",
    "def all_cover_ploter(dataset, base):\n",
    "    # set base coordinates\n",
    "    eps=1+10**(-5)\n",
    "    coord = {0: [-4., 0.],\n",
    "            1: [-3., 0.],\n",
    "            2: [-2., 0.],\n",
    "            4: [-1., 0.],\n",
    "            5: [0., 0.],\n",
    "            6: [1., 0.],\n",
    "            7: [2., 0.],\n",
    "            3: [-1.5, np.sqrt(0.75)],\n",
    "            8: [0.5, np.sqrt(0.75)]}\n",
    "    for i in range(9):\n",
    "        base.nodes[i]['pos'] = (coord[i][0], coord[i][1], 0.)\n",
    "    \n",
    "    # initialize nodes and edges\n",
    "    node_x = []\n",
    "    node_y = []\n",
    "    node_z = []\n",
    "\n",
    "    edge_x = []\n",
    "    edge_y = []\n",
    "    edge_z = []\n",
    "\n",
    "    for p, l in enumerate(dataset):\n",
    "        G = nx.Graph(l.edge_index.t().tolist())\n",
    "        # set cover coordinates\n",
    "        size = len(G.nodes())\n",
    "        scale = 0.2\n",
    "        for i in range(size):\n",
    "            #print(float(i//9), size/9)\n",
    "            #print(i, float(i//9), size/(2*9), ((float(i//9)-size/(2*9))**2)/(size/(2*9))**2, base.nodes[i%9]['pos'][1] + (float(i//9)-size/(2*9))**2)\n",
    "            G.nodes[i]['pos'] = (base.nodes[i%9]['pos'][0] + 10*p,\n",
    "                                 base.nodes[i%9]['pos'][1], # - ((float(i//9)-np.round(size/(2*9)))**2)/(np.round(size/(2*9))*(size/(2*9)))**2, #+ np.log(float(i//9)+eps)-np.log(eps),\n",
    "                                 base.nodes[i%9]['pos'][2]+scale*float(i//9))\n",
    "\n",
    "        # Get coordinates of edges\n",
    "        for edge in G.edges():\n",
    "            x0, y0, z0 = G.nodes[edge[0]]['pos']\n",
    "            x1, y1, z1 = G.nodes[edge[1]]['pos']\n",
    "            edge_x.append(x0)\n",
    "            edge_x.append(x1)\n",
    "            edge_x.append(None)\n",
    "            edge_y.append(y0)\n",
    "            edge_y.append(y1)\n",
    "            edge_y.append(None)\n",
    "            edge_z.append(z0)\n",
    "            edge_z.append(z1)\n",
    "            edge_z.append(None)\n",
    "\n",
    "        # plot all edges\n",
    "        edge_trace = go.Scatter3d(\n",
    "            x=edge_x, y=edge_y, z=edge_z,\n",
    "            line=dict(width=5, color='#888'),\n",
    "            hoverinfo='none',\n",
    "            mode='lines')\n",
    "\n",
    "        # get node coordinates\n",
    "        for node in G.nodes():\n",
    "            x, y, z = G.nodes[node]['pos']\n",
    "            node_x.append(x)\n",
    "            node_y.append(y)\n",
    "            node_z.append(z)\n",
    "\n",
    "    # plot nodes\n",
    "    node_trace = go.Scatter3d(\n",
    "        x=node_x, y=node_y, z=node_z,\n",
    "        mode='markers',\n",
    "        hoverinfo='text',\n",
    "        marker=dict(\n",
    "            showscale=False,\n",
    "            # colorscale options\n",
    "            #'Greys' | 'YlGnBu' | 'Greens' | 'YlOrRd' | 'Bluered' | 'RdBu' |\n",
    "            #'Reds' | 'Blues' | 'Picnic' | 'Rainbow' | 'Portland' | 'Jet' |\n",
    "            #'Hot' | 'Blackbody' | 'Earth' | 'Electric' | 'Viridis' |\n",
    "            colorscale='YlGnBu',\n",
    "            reversescale=True,\n",
    "            color=np.tile(np.arange(0, 1, 1/len(G.nodes())), len(dataset)),\n",
    "            size=10,\n",
    "            # colorbar=dict(\n",
    "            #     thickness=15,\n",
    "            #     title='Node Connections',\n",
    "            #     xanchor='left',\n",
    "            #     titleside='right'\n",
    "            # ),\n",
    "            line_width=2))\n",
    "\n",
    "    # plot figure\n",
    "    fig = go.Figure(data=[edge_trace, node_trace]\n",
    "                   )\n",
    "    \n",
    "    # setting the right zoom and size\n",
    "    fig.update_layout(width=1800,\n",
    "                      height=1400,\n",
    "                      scene = dict(aspectratio = dict(x=1, y=0.035, z=0.1 )),\n",
    "                      showlegend=False\n",
    "                     )\n",
    "    \n",
    "    # Removing background etc \n",
    "    fig.update_layout(scene = dict(\n",
    "                    xaxis = dict(\n",
    "                         #backgroundcolor=\"rgb(0, 0, 0)\",\n",
    "                         #gridcolor=\"white\",\n",
    "                         showbackground=False,\n",
    "                         showgrid=False,\n",
    "                         #showticklabels=False,\n",
    "                         visible=False,\n",
    "                         #zerolinecolor=\"white\",\n",
    "                    ),\n",
    "                    yaxis = dict(\n",
    "                        #backgroundcolor=\"rgb(0, 0, 0)\",\n",
    "                        #gridcolor=\"white\",\n",
    "                        showbackground=False,\n",
    "                        showgrid=False,\n",
    "                        #showticklabels=False,\n",
    "                        visible=False,\n",
    "                        #zerolinecolor=\"white\"\n",
    "                    ),\n",
    "                    zaxis = dict(\n",
    "                        #backgroundcolor=\"rgb(0, 0, 0)\",\n",
    "                        #gridcolor=\"white\",\n",
    "                        showbackground=False,\n",
    "                        showgrid=False,\n",
    "                        #showticklabels=False,\n",
    "                        visible=False,\n",
    "                        #zerolinecolor=\"white\",\n",
    "                    ),\n",
    "                    # width=700,\n",
    "                    # margin=dict(\n",
    "                    # r=10, l=10,\n",
    "                    # b=10, t=10)\n",
    "                    camera=dict(\n",
    "                            up=dict(\n",
    "                                x=0,\n",
    "                                y=0,\n",
    "                                z=1\n",
    "                            ),\n",
    "                            eye=dict(\n",
    "                                x=0.1,\n",
    "                                y=-1,\n",
    "                                z=0.5,\n",
    "                            )\n",
    "                        ),\n",
    "                  ))\n",
    "    \n",
    "    fig.write_image(\"images/all_deg2.pdf\")\n",
    "\n",
    "    fig.show()"
   ]
  },
  {
   "cell_type": "code",
   "execution_count": 55,
   "id": "f8930c13-1527-430a-a5d0-d313797d06f6",
   "metadata": {},
   "outputs": [
    {
     "name": "stdout",
     "output_type": "stream",
     "text": [
      "total number of covers to check:  576\n",
      "26\n"
     ]
    }
   ],
   "source": [
    "L = generate_with_cycle_data(data, k=4, cycle_edge=cycle_edge, stop=50)\n",
    "print(len(L))\n",
    "dataset = [l[0] for l in L]"
   ]
  },
  {
   "cell_type": "code",
   "execution_count": 56,
   "id": "a3eee231-37c0-4430-888f-32531b49ff0e",
   "metadata": {},
   "outputs": [],
   "source": [
    "for i, l in enumerate(dataset):\n",
    "    G = nx.Graph(l.edge_index.t().tolist())\n",
    "    fig = cover_ploter(G)\n",
    "    fig.write_image(\"images/deg4/deg4_covernb\"+str(i)+\".pdf\")\n",
    "    #fig.show()\n",
    "    #break"
   ]
  },
  {
   "cell_type": "code",
   "execution_count": 272,
   "id": "6f39dc49-7e09-4a64-a726-b55ac59e2766",
   "metadata": {},
   "outputs": [
    {
     "data": {
      "application/vnd.plotly.v1+json": {
       "config": {
        "plotlyServerURL": "https://plot.ly"
       },
       "data": [
        {
         "hoverinfo": "none",
         "line": {
          "color": "#888",
          "width": 5
         },
         "mode": "lines",
         "type": "scatter3d",
         "x": [
          -4,
          -3,
          null,
          -3,
          -2,
          null,
          -4,
          -3,
          null,
          -3,
          -2,
          null,
          -4,
          -3,
          null,
          -3,
          -2,
          null,
          -2,
          -1.5,
          null,
          -2,
          -1,
          null,
          -2,
          -1.5,
          null,
          -2,
          -1,
          null,
          -2,
          -1.5,
          null,
          -2,
          -1,
          null,
          -1.5,
          -1,
          null,
          -1.5,
          -1,
          null,
          -1.5,
          -1,
          null,
          -1,
          0,
          null,
          -1,
          0,
          null,
          -1,
          0,
          null,
          0,
          1,
          null,
          0,
          0.5,
          null,
          0,
          1,
          null,
          0,
          0.5,
          null,
          0,
          1,
          null,
          0,
          0.5,
          null,
          1,
          2,
          null,
          1,
          0.5,
          null,
          1,
          2,
          null,
          1,
          0.5,
          null,
          1,
          2,
          null,
          1,
          0.5,
          null
         ],
         "y": [
          -0.4444444444444444,
          -0.4444444444444444,
          null,
          -0.4444444444444444,
          -0.4444444444444444,
          null,
          -0.1111111111111111,
          -0.1111111111111111,
          null,
          -0.1111111111111111,
          -0.1111111111111111,
          null,
          0,
          0,
          null,
          0,
          0,
          null,
          -0.4444444444444444,
          0.4215809593399942,
          null,
          -0.4444444444444444,
          -0.1111111111111111,
          null,
          -0.1111111111111111,
          0.7549142926733274,
          null,
          -0.1111111111111111,
          0,
          null,
          0,
          0.8660254037844386,
          null,
          0,
          -0.4444444444444444,
          null,
          0.4215809593399942,
          -0.4444444444444444,
          null,
          0.7549142926733274,
          -0.1111111111111111,
          null,
          0.8660254037844386,
          0,
          null,
          -0.1111111111111111,
          -0.1111111111111111,
          null,
          0,
          0,
          null,
          -0.4444444444444444,
          -0.4444444444444444,
          null,
          -0.4444444444444444,
          0,
          null,
          -0.4444444444444444,
          0.4215809593399942,
          null,
          -0.1111111111111111,
          -0.4444444444444444,
          null,
          -0.1111111111111111,
          0.7549142926733274,
          null,
          0,
          -0.1111111111111111,
          null,
          0,
          0.8660254037844386,
          null,
          0,
          0,
          null,
          0,
          0.8660254037844386,
          null,
          -0.4444444444444444,
          -0.4444444444444444,
          null,
          -0.4444444444444444,
          0.4215809593399942,
          null,
          -0.1111111111111111,
          -0.1111111111111111,
          null,
          -0.1111111111111111,
          0.7549142926733274,
          null
         ],
         "z": [
          0,
          0,
          null,
          0,
          0,
          null,
          0.5,
          0.5,
          null,
          0.5,
          0.5,
          null,
          1,
          1,
          null,
          1,
          1,
          null,
          0,
          0,
          null,
          0,
          0.5,
          null,
          0.5,
          0.5,
          null,
          0.5,
          1,
          null,
          1,
          1,
          null,
          1,
          0,
          null,
          0,
          0,
          null,
          0.5,
          0.5,
          null,
          1,
          1,
          null,
          0.5,
          0.5,
          null,
          1,
          1,
          null,
          0,
          0,
          null,
          0,
          1,
          null,
          0,
          0,
          null,
          0.5,
          0,
          null,
          0.5,
          0.5,
          null,
          1,
          0.5,
          null,
          1,
          1,
          null,
          1,
          1,
          null,
          1,
          1,
          null,
          0,
          0,
          null,
          0,
          0,
          null,
          0.5,
          0.5,
          null,
          0.5,
          0.5,
          null
         ]
        },
        {
         "hoverinfo": "text",
         "marker": {
          "color": [
           0,
           0.037037037037037035,
           0.07407407407407407,
           0.1111111111111111,
           0.14814814814814814,
           0.18518518518518517,
           0.2222222222222222,
           0.25925925925925924,
           0.2962962962962963,
           0.3333333333333333,
           0.37037037037037035,
           0.4074074074074074,
           0.4444444444444444,
           0.48148148148148145,
           0.5185185185185185,
           0.5555555555555556,
           0.5925925925925926,
           0.6296296296296295,
           0.6666666666666666,
           0.7037037037037037,
           0.7407407407407407,
           0.7777777777777777,
           0.8148148148148148,
           0.8518518518518519,
           0.8888888888888888,
           0.9259259259259258,
           0.9629629629629629
          ],
          "colorscale": [
           [
            0,
            "rgb(255,255,217)"
           ],
           [
            0.125,
            "rgb(237,248,177)"
           ],
           [
            0.25,
            "rgb(199,233,180)"
           ],
           [
            0.375,
            "rgb(127,205,187)"
           ],
           [
            0.5,
            "rgb(65,182,196)"
           ],
           [
            0.625,
            "rgb(29,145,192)"
           ],
           [
            0.75,
            "rgb(34,94,168)"
           ],
           [
            0.875,
            "rgb(37,52,148)"
           ],
           [
            1,
            "rgb(8,29,88)"
           ]
          ],
          "line": {
           "width": 2
          },
          "reversescale": true,
          "showscale": false,
          "size": 10
         },
         "mode": "markers",
         "type": "scatter3d",
         "x": [
          -4,
          -3,
          -4,
          -3,
          -4,
          -3,
          -2,
          -2,
          -2,
          -1.5,
          -1.5,
          -1.5,
          -1,
          -1,
          -1,
          0,
          0,
          0,
          1,
          1,
          1,
          0.5,
          0.5,
          0.5,
          2,
          2,
          2
         ],
         "y": [
          -0.4444444444444444,
          -0.4444444444444444,
          -0.1111111111111111,
          -0.1111111111111111,
          0,
          0,
          -0.4444444444444444,
          -0.1111111111111111,
          0,
          0.4215809593399942,
          0.7549142926733274,
          0.8660254037844386,
          -0.1111111111111111,
          0,
          -0.4444444444444444,
          -0.4444444444444444,
          -0.1111111111111111,
          0,
          0,
          -0.4444444444444444,
          -0.1111111111111111,
          0.4215809593399942,
          0.7549142926733274,
          0.8660254037844386,
          -0.4444444444444444,
          -0.1111111111111111,
          0
         ],
         "z": [
          0,
          0,
          0.5,
          0.5,
          1,
          1,
          0,
          0.5,
          1,
          0,
          0.5,
          1,
          0.5,
          1,
          0,
          0,
          0.5,
          1,
          1,
          0,
          0.5,
          0,
          0.5,
          1,
          0,
          0.5,
          1
         ]
        }
       ],
       "layout": {
        "height": 700,
        "scene": {
         "aspectratio": {
          "x": 1,
          "y": 0.2,
          "z": 0.7
         },
         "camera": {
          "center": {
           "x": 0,
           "y": 0,
           "z": 0
          },
          "eye": {
           "x": -0.18462737907145602,
           "y": -1.9779808120793725,
           "z": 0.6490859492160198
          },
          "projection": {
           "type": "perspective"
          },
          "up": {
           "x": 0,
           "y": 0,
           "z": 1
          }
         },
         "xaxis": {
          "showbackground": false,
          "showgrid": false,
          "type": "linear",
          "visible": false
         },
         "yaxis": {
          "showbackground": false,
          "showgrid": false,
          "type": "linear",
          "visible": false
         },
         "zaxis": {
          "showbackground": false,
          "showgrid": false,
          "type": "linear",
          "visible": false
         }
        },
        "showlegend": false,
        "template": {
         "data": {
          "bar": [
           {
            "error_x": {
             "color": "#2a3f5f"
            },
            "error_y": {
             "color": "#2a3f5f"
            },
            "marker": {
             "line": {
              "color": "#E5ECF6",
              "width": 0.5
             },
             "pattern": {
              "fillmode": "overlay",
              "size": 10,
              "solidity": 0.2
             }
            },
            "type": "bar"
           }
          ],
          "barpolar": [
           {
            "marker": {
             "line": {
              "color": "#E5ECF6",
              "width": 0.5
             },
             "pattern": {
              "fillmode": "overlay",
              "size": 10,
              "solidity": 0.2
             }
            },
            "type": "barpolar"
           }
          ],
          "carpet": [
           {
            "aaxis": {
             "endlinecolor": "#2a3f5f",
             "gridcolor": "white",
             "linecolor": "white",
             "minorgridcolor": "white",
             "startlinecolor": "#2a3f5f"
            },
            "baxis": {
             "endlinecolor": "#2a3f5f",
             "gridcolor": "white",
             "linecolor": "white",
             "minorgridcolor": "white",
             "startlinecolor": "#2a3f5f"
            },
            "type": "carpet"
           }
          ],
          "choropleth": [
           {
            "colorbar": {
             "outlinewidth": 0,
             "ticks": ""
            },
            "type": "choropleth"
           }
          ],
          "contour": [
           {
            "colorbar": {
             "outlinewidth": 0,
             "ticks": ""
            },
            "colorscale": [
             [
              0,
              "#0d0887"
             ],
             [
              0.1111111111111111,
              "#46039f"
             ],
             [
              0.2222222222222222,
              "#7201a8"
             ],
             [
              0.3333333333333333,
              "#9c179e"
             ],
             [
              0.4444444444444444,
              "#bd3786"
             ],
             [
              0.5555555555555556,
              "#d8576b"
             ],
             [
              0.6666666666666666,
              "#ed7953"
             ],
             [
              0.7777777777777778,
              "#fb9f3a"
             ],
             [
              0.8888888888888888,
              "#fdca26"
             ],
             [
              1,
              "#f0f921"
             ]
            ],
            "type": "contour"
           }
          ],
          "contourcarpet": [
           {
            "colorbar": {
             "outlinewidth": 0,
             "ticks": ""
            },
            "type": "contourcarpet"
           }
          ],
          "heatmap": [
           {
            "colorbar": {
             "outlinewidth": 0,
             "ticks": ""
            },
            "colorscale": [
             [
              0,
              "#0d0887"
             ],
             [
              0.1111111111111111,
              "#46039f"
             ],
             [
              0.2222222222222222,
              "#7201a8"
             ],
             [
              0.3333333333333333,
              "#9c179e"
             ],
             [
              0.4444444444444444,
              "#bd3786"
             ],
             [
              0.5555555555555556,
              "#d8576b"
             ],
             [
              0.6666666666666666,
              "#ed7953"
             ],
             [
              0.7777777777777778,
              "#fb9f3a"
             ],
             [
              0.8888888888888888,
              "#fdca26"
             ],
             [
              1,
              "#f0f921"
             ]
            ],
            "type": "heatmap"
           }
          ],
          "heatmapgl": [
           {
            "colorbar": {
             "outlinewidth": 0,
             "ticks": ""
            },
            "colorscale": [
             [
              0,
              "#0d0887"
             ],
             [
              0.1111111111111111,
              "#46039f"
             ],
             [
              0.2222222222222222,
              "#7201a8"
             ],
             [
              0.3333333333333333,
              "#9c179e"
             ],
             [
              0.4444444444444444,
              "#bd3786"
             ],
             [
              0.5555555555555556,
              "#d8576b"
             ],
             [
              0.6666666666666666,
              "#ed7953"
             ],
             [
              0.7777777777777778,
              "#fb9f3a"
             ],
             [
              0.8888888888888888,
              "#fdca26"
             ],
             [
              1,
              "#f0f921"
             ]
            ],
            "type": "heatmapgl"
           }
          ],
          "histogram": [
           {
            "marker": {
             "pattern": {
              "fillmode": "overlay",
              "size": 10,
              "solidity": 0.2
             }
            },
            "type": "histogram"
           }
          ],
          "histogram2d": [
           {
            "colorbar": {
             "outlinewidth": 0,
             "ticks": ""
            },
            "colorscale": [
             [
              0,
              "#0d0887"
             ],
             [
              0.1111111111111111,
              "#46039f"
             ],
             [
              0.2222222222222222,
              "#7201a8"
             ],
             [
              0.3333333333333333,
              "#9c179e"
             ],
             [
              0.4444444444444444,
              "#bd3786"
             ],
             [
              0.5555555555555556,
              "#d8576b"
             ],
             [
              0.6666666666666666,
              "#ed7953"
             ],
             [
              0.7777777777777778,
              "#fb9f3a"
             ],
             [
              0.8888888888888888,
              "#fdca26"
             ],
             [
              1,
              "#f0f921"
             ]
            ],
            "type": "histogram2d"
           }
          ],
          "histogram2dcontour": [
           {
            "colorbar": {
             "outlinewidth": 0,
             "ticks": ""
            },
            "colorscale": [
             [
              0,
              "#0d0887"
             ],
             [
              0.1111111111111111,
              "#46039f"
             ],
             [
              0.2222222222222222,
              "#7201a8"
             ],
             [
              0.3333333333333333,
              "#9c179e"
             ],
             [
              0.4444444444444444,
              "#bd3786"
             ],
             [
              0.5555555555555556,
              "#d8576b"
             ],
             [
              0.6666666666666666,
              "#ed7953"
             ],
             [
              0.7777777777777778,
              "#fb9f3a"
             ],
             [
              0.8888888888888888,
              "#fdca26"
             ],
             [
              1,
              "#f0f921"
             ]
            ],
            "type": "histogram2dcontour"
           }
          ],
          "mesh3d": [
           {
            "colorbar": {
             "outlinewidth": 0,
             "ticks": ""
            },
            "type": "mesh3d"
           }
          ],
          "parcoords": [
           {
            "line": {
             "colorbar": {
              "outlinewidth": 0,
              "ticks": ""
             }
            },
            "type": "parcoords"
           }
          ],
          "pie": [
           {
            "automargin": true,
            "type": "pie"
           }
          ],
          "scatter": [
           {
            "marker": {
             "colorbar": {
              "outlinewidth": 0,
              "ticks": ""
             }
            },
            "type": "scatter"
           }
          ],
          "scatter3d": [
           {
            "line": {
             "colorbar": {
              "outlinewidth": 0,
              "ticks": ""
             }
            },
            "marker": {
             "colorbar": {
              "outlinewidth": 0,
              "ticks": ""
             }
            },
            "type": "scatter3d"
           }
          ],
          "scattercarpet": [
           {
            "marker": {
             "colorbar": {
              "outlinewidth": 0,
              "ticks": ""
             }
            },
            "type": "scattercarpet"
           }
          ],
          "scattergeo": [
           {
            "marker": {
             "colorbar": {
              "outlinewidth": 0,
              "ticks": ""
             }
            },
            "type": "scattergeo"
           }
          ],
          "scattergl": [
           {
            "marker": {
             "colorbar": {
              "outlinewidth": 0,
              "ticks": ""
             }
            },
            "type": "scattergl"
           }
          ],
          "scattermapbox": [
           {
            "marker": {
             "colorbar": {
              "outlinewidth": 0,
              "ticks": ""
             }
            },
            "type": "scattermapbox"
           }
          ],
          "scatterpolar": [
           {
            "marker": {
             "colorbar": {
              "outlinewidth": 0,
              "ticks": ""
             }
            },
            "type": "scatterpolar"
           }
          ],
          "scatterpolargl": [
           {
            "marker": {
             "colorbar": {
              "outlinewidth": 0,
              "ticks": ""
             }
            },
            "type": "scatterpolargl"
           }
          ],
          "scatterternary": [
           {
            "marker": {
             "colorbar": {
              "outlinewidth": 0,
              "ticks": ""
             }
            },
            "type": "scatterternary"
           }
          ],
          "surface": [
           {
            "colorbar": {
             "outlinewidth": 0,
             "ticks": ""
            },
            "colorscale": [
             [
              0,
              "#0d0887"
             ],
             [
              0.1111111111111111,
              "#46039f"
             ],
             [
              0.2222222222222222,
              "#7201a8"
             ],
             [
              0.3333333333333333,
              "#9c179e"
             ],
             [
              0.4444444444444444,
              "#bd3786"
             ],
             [
              0.5555555555555556,
              "#d8576b"
             ],
             [
              0.6666666666666666,
              "#ed7953"
             ],
             [
              0.7777777777777778,
              "#fb9f3a"
             ],
             [
              0.8888888888888888,
              "#fdca26"
             ],
             [
              1,
              "#f0f921"
             ]
            ],
            "type": "surface"
           }
          ],
          "table": [
           {
            "cells": {
             "fill": {
              "color": "#EBF0F8"
             },
             "line": {
              "color": "white"
             }
            },
            "header": {
             "fill": {
              "color": "#C8D4E3"
             },
             "line": {
              "color": "white"
             }
            },
            "type": "table"
           }
          ]
         },
         "layout": {
          "annotationdefaults": {
           "arrowcolor": "#2a3f5f",
           "arrowhead": 0,
           "arrowwidth": 1
          },
          "autotypenumbers": "strict",
          "coloraxis": {
           "colorbar": {
            "outlinewidth": 0,
            "ticks": ""
           }
          },
          "colorscale": {
           "diverging": [
            [
             0,
             "#8e0152"
            ],
            [
             0.1,
             "#c51b7d"
            ],
            [
             0.2,
             "#de77ae"
            ],
            [
             0.3,
             "#f1b6da"
            ],
            [
             0.4,
             "#fde0ef"
            ],
            [
             0.5,
             "#f7f7f7"
            ],
            [
             0.6,
             "#e6f5d0"
            ],
            [
             0.7,
             "#b8e186"
            ],
            [
             0.8,
             "#7fbc41"
            ],
            [
             0.9,
             "#4d9221"
            ],
            [
             1,
             "#276419"
            ]
           ],
           "sequential": [
            [
             0,
             "#0d0887"
            ],
            [
             0.1111111111111111,
             "#46039f"
            ],
            [
             0.2222222222222222,
             "#7201a8"
            ],
            [
             0.3333333333333333,
             "#9c179e"
            ],
            [
             0.4444444444444444,
             "#bd3786"
            ],
            [
             0.5555555555555556,
             "#d8576b"
            ],
            [
             0.6666666666666666,
             "#ed7953"
            ],
            [
             0.7777777777777778,
             "#fb9f3a"
            ],
            [
             0.8888888888888888,
             "#fdca26"
            ],
            [
             1,
             "#f0f921"
            ]
           ],
           "sequentialminus": [
            [
             0,
             "#0d0887"
            ],
            [
             0.1111111111111111,
             "#46039f"
            ],
            [
             0.2222222222222222,
             "#7201a8"
            ],
            [
             0.3333333333333333,
             "#9c179e"
            ],
            [
             0.4444444444444444,
             "#bd3786"
            ],
            [
             0.5555555555555556,
             "#d8576b"
            ],
            [
             0.6666666666666666,
             "#ed7953"
            ],
            [
             0.7777777777777778,
             "#fb9f3a"
            ],
            [
             0.8888888888888888,
             "#fdca26"
            ],
            [
             1,
             "#f0f921"
            ]
           ]
          },
          "colorway": [
           "#636efa",
           "#EF553B",
           "#00cc96",
           "#ab63fa",
           "#FFA15A",
           "#19d3f3",
           "#FF6692",
           "#B6E880",
           "#FF97FF",
           "#FECB52"
          ],
          "font": {
           "color": "#2a3f5f"
          },
          "geo": {
           "bgcolor": "white",
           "lakecolor": "white",
           "landcolor": "#E5ECF6",
           "showlakes": true,
           "showland": true,
           "subunitcolor": "white"
          },
          "hoverlabel": {
           "align": "left"
          },
          "hovermode": "closest",
          "mapbox": {
           "style": "light"
          },
          "paper_bgcolor": "white",
          "plot_bgcolor": "#E5ECF6",
          "polar": {
           "angularaxis": {
            "gridcolor": "white",
            "linecolor": "white",
            "ticks": ""
           },
           "bgcolor": "#E5ECF6",
           "radialaxis": {
            "gridcolor": "white",
            "linecolor": "white",
            "ticks": ""
           }
          },
          "scene": {
           "xaxis": {
            "backgroundcolor": "#E5ECF6",
            "gridcolor": "white",
            "gridwidth": 2,
            "linecolor": "white",
            "showbackground": true,
            "ticks": "",
            "zerolinecolor": "white"
           },
           "yaxis": {
            "backgroundcolor": "#E5ECF6",
            "gridcolor": "white",
            "gridwidth": 2,
            "linecolor": "white",
            "showbackground": true,
            "ticks": "",
            "zerolinecolor": "white"
           },
           "zaxis": {
            "backgroundcolor": "#E5ECF6",
            "gridcolor": "white",
            "gridwidth": 2,
            "linecolor": "white",
            "showbackground": true,
            "ticks": "",
            "zerolinecolor": "white"
           }
          },
          "shapedefaults": {
           "line": {
            "color": "#2a3f5f"
           }
          },
          "ternary": {
           "aaxis": {
            "gridcolor": "white",
            "linecolor": "white",
            "ticks": ""
           },
           "baxis": {
            "gridcolor": "white",
            "linecolor": "white",
            "ticks": ""
           },
           "bgcolor": "#E5ECF6",
           "caxis": {
            "gridcolor": "white",
            "linecolor": "white",
            "ticks": ""
           }
          },
          "title": {
           "x": 0.05
          },
          "xaxis": {
           "automargin": true,
           "gridcolor": "white",
           "linecolor": "white",
           "ticks": "",
           "title": {
            "standoff": 15
           },
           "zerolinecolor": "white",
           "zerolinewidth": 2
          },
          "yaxis": {
           "automargin": true,
           "gridcolor": "white",
           "linecolor": "white",
           "ticks": "",
           "title": {
            "standoff": 15
           },
           "zerolinecolor": "white",
           "zerolinewidth": 2
          }
         }
        },
        "width": 800
       }
      },
      "image/png": "[encoded data removed]",
      "text/html": [
       "<div>                            <div id=\"269f55e5-4b79-4059-b6b3-0d7ec1a7c33f\" class=\"plotly-graph-div\" style=\"height:700px; width:800px;\"></div>            <script type=\"text/javascript\">                require([\"plotly\"], function(Plotly) {                    window.PLOTLYENV=window.PLOTLYENV || {};                                    if (document.getElementById(\"269f55e5-4b79-4059-b6b3-0d7ec1a7c33f\")) {                    Plotly.newPlot(                        \"269f55e5-4b79-4059-b6b3-0d7ec1a7c33f\",                        [{\"hoverinfo\":\"none\",\"line\":{\"color\":\"#888\",\"width\":5},\"mode\":\"lines\",\"type\":\"scatter3d\",\"x\":[-4.0,-3.0,null,-3.0,-2.0,null,-4.0,-3.0,null,-3.0,-2.0,null,-4.0,-3.0,null,-3.0,-2.0,null,-2.0,-1.5,null,-2.0,-1.0,null,-2.0,-1.5,null,-2.0,-1.0,null,-2.0,-1.5,null,-2.0,-1.0,null,-1.5,-1.0,null,-1.5,-1.0,null,-1.5,-1.0,null,-1.0,0.0,null,-1.0,0.0,null,-1.0,0.0,null,0.0,1.0,null,0.0,0.5,null,0.0,1.0,null,0.0,0.5,null,0.0,1.0,null,0.0,0.5,null,1.0,2.0,null,1.0,0.5,null,1.0,2.0,null,1.0,0.5,null,1.0,2.0,null,1.0,0.5,null],\"y\":[-0.4444444444444444,-0.4444444444444444,null,-0.4444444444444444,-0.4444444444444444,null,-0.1111111111111111,-0.1111111111111111,null,-0.1111111111111111,-0.1111111111111111,null,0.0,0.0,null,0.0,0.0,null,-0.4444444444444444,0.4215809593399942,null,-0.4444444444444444,-0.1111111111111111,null,-0.1111111111111111,0.7549142926733274,null,-0.1111111111111111,0.0,null,0.0,0.8660254037844386,null,0.0,-0.4444444444444444,null,0.4215809593399942,-0.4444444444444444,null,0.7549142926733274,-0.1111111111111111,null,0.8660254037844386,0.0,null,-0.1111111111111111,-0.1111111111111111,null,0.0,0.0,null,-0.4444444444444444,-0.4444444444444444,null,-0.4444444444444444,0.0,null,-0.4444444444444444,0.4215809593399942,null,-0.1111111111111111,-0.4444444444444444,null,-0.1111111111111111,0.7549142926733274,null,0.0,-0.1111111111111111,null,0.0,0.8660254037844386,null,0.0,0.0,null,0.0,0.8660254037844386,null,-0.4444444444444444,-0.4444444444444444,null,-0.4444444444444444,0.4215809593399942,null,-0.1111111111111111,-0.1111111111111111,null,-0.1111111111111111,0.7549142926733274,null],\"z\":[0.0,0.0,null,0.0,0.0,null,0.5,0.5,null,0.5,0.5,null,1.0,1.0,null,1.0,1.0,null,0.0,0.0,null,0.0,0.5,null,0.5,0.5,null,0.5,1.0,null,1.0,1.0,null,1.0,0.0,null,0.0,0.0,null,0.5,0.5,null,1.0,1.0,null,0.5,0.5,null,1.0,1.0,null,0.0,0.0,null,0.0,1.0,null,0.0,0.0,null,0.5,0.0,null,0.5,0.5,null,1.0,0.5,null,1.0,1.0,null,1.0,1.0,null,1.0,1.0,null,0.0,0.0,null,0.0,0.0,null,0.5,0.5,null,0.5,0.5,null]},{\"hoverinfo\":\"text\",\"marker\":{\"color\":[0.0,0.037037037037037035,0.07407407407407407,0.1111111111111111,0.14814814814814814,0.18518518518518517,0.2222222222222222,0.25925925925925924,0.2962962962962963,0.3333333333333333,0.37037037037037035,0.4074074074074074,0.4444444444444444,0.48148148148148145,0.5185185185185185,0.5555555555555556,0.5925925925925926,0.6296296296296295,0.6666666666666666,0.7037037037037037,0.7407407407407407,0.7777777777777777,0.8148148148148148,0.8518518518518519,0.8888888888888888,0.9259259259259258,0.9629629629629629],\"colorscale\":[[0.0,\"rgb(255,255,217)\"],[0.125,\"rgb(237,248,177)\"],[0.25,\"rgb(199,233,180)\"],[0.375,\"rgb(127,205,187)\"],[0.5,\"rgb(65,182,196)\"],[0.625,\"rgb(29,145,192)\"],[0.75,\"rgb(34,94,168)\"],[0.875,\"rgb(37,52,148)\"],[1.0,\"rgb(8,29,88)\"]],\"line\":{\"width\":2},\"reversescale\":true,\"showscale\":false,\"size\":10},\"mode\":\"markers\",\"type\":\"scatter3d\",\"x\":[-4.0,-3.0,-4.0,-3.0,-4.0,-3.0,-2.0,-2.0,-2.0,-1.5,-1.5,-1.5,-1.0,-1.0,-1.0,0.0,0.0,0.0,1.0,1.0,1.0,0.5,0.5,0.5,2.0,2.0,2.0],\"y\":[-0.4444444444444444,-0.4444444444444444,-0.1111111111111111,-0.1111111111111111,0.0,0.0,-0.4444444444444444,-0.1111111111111111,0.0,0.4215809593399942,0.7549142926733274,0.8660254037844386,-0.1111111111111111,0.0,-0.4444444444444444,-0.4444444444444444,-0.1111111111111111,0.0,0.0,-0.4444444444444444,-0.1111111111111111,0.4215809593399942,0.7549142926733274,0.8660254037844386,-0.4444444444444444,-0.1111111111111111,0.0],\"z\":[0.0,0.0,0.5,0.5,1.0,1.0,0.0,0.5,1.0,0.0,0.5,1.0,0.5,1.0,0.0,0.0,0.5,1.0,1.0,0.0,0.5,0.0,0.5,1.0,0.0,0.5,1.0]}],                        {\"height\":700,\"scene\":{\"aspectratio\":{\"x\":1,\"y\":0.2,\"z\":0.7},\"camera\":{\"eye\":{\"x\":0.1,\"y\":-1,\"z\":0.5},\"up\":{\"x\":0,\"y\":0,\"z\":1}},\"xaxis\":{\"showbackground\":false,\"showgrid\":false,\"visible\":false},\"yaxis\":{\"showbackground\":false,\"showgrid\":false,\"visible\":false},\"zaxis\":{\"showbackground\":false,\"showgrid\":false,\"visible\":false}},\"showlegend\":false,\"template\":{\"data\":{\"bar\":[{\"error_x\":{\"color\":\"#2a3f5f\"},\"error_y\":{\"color\":\"#2a3f5f\"},\"marker\":{\"line\":{\"color\":\"#E5ECF6\",\"width\":0.5},\"pattern\":{\"fillmode\":\"overlay\",\"size\":10,\"solidity\":0.2}},\"type\":\"bar\"}],\"barpolar\":[{\"marker\":{\"line\":{\"color\":\"#E5ECF6\",\"width\":0.5},\"pattern\":{\"fillmode\":\"overlay\",\"size\":10,\"solidity\":0.2}},\"type\":\"barpolar\"}],\"carpet\":[{\"aaxis\":{\"endlinecolor\":\"#2a3f5f\",\"gridcolor\":\"white\",\"linecolor\":\"white\",\"minorgridcolor\":\"white\",\"startlinecolor\":\"#2a3f5f\"},\"baxis\":{\"endlinecolor\":\"#2a3f5f\",\"gridcolor\":\"white\",\"linecolor\":\"white\",\"minorgridcolor\":\"white\",\"startlinecolor\":\"#2a3f5f\"},\"type\":\"carpet\"}],\"choropleth\":[{\"colorbar\":{\"outlinewidth\":0,\"ticks\":\"\"},\"type\":\"choropleth\"}],\"contour\":[{\"colorbar\":{\"outlinewidth\":0,\"ticks\":\"\"},\"colorscale\":[[0.0,\"#0d0887\"],[0.1111111111111111,\"#46039f\"],[0.2222222222222222,\"#7201a8\"],[0.3333333333333333,\"#9c179e\"],[0.4444444444444444,\"#bd3786\"],[0.5555555555555556,\"#d8576b\"],[0.6666666666666666,\"#ed7953\"],[0.7777777777777778,\"#fb9f3a\"],[0.8888888888888888,\"#fdca26\"],[1.0,\"#f0f921\"]],\"type\":\"contour\"}],\"contourcarpet\":[{\"colorbar\":{\"outlinewidth\":0,\"ticks\":\"\"},\"type\":\"contourcarpet\"}],\"heatmap\":[{\"colorbar\":{\"outlinewidth\":0,\"ticks\":\"\"},\"colorscale\":[[0.0,\"#0d0887\"],[0.1111111111111111,\"#46039f\"],[0.2222222222222222,\"#7201a8\"],[0.3333333333333333,\"#9c179e\"],[0.4444444444444444,\"#bd3786\"],[0.5555555555555556,\"#d8576b\"],[0.6666666666666666,\"#ed7953\"],[0.7777777777777778,\"#fb9f3a\"],[0.8888888888888888,\"#fdca26\"],[1.0,\"#f0f921\"]],\"type\":\"heatmap\"}],\"heatmapgl\":[{\"colorbar\":{\"outlinewidth\":0,\"ticks\":\"\"},\"colorscale\":[[0.0,\"#0d0887\"],[0.1111111111111111,\"#46039f\"],[0.2222222222222222,\"#7201a8\"],[0.3333333333333333,\"#9c179e\"],[0.4444444444444444,\"#bd3786\"],[0.5555555555555556,\"#d8576b\"],[0.6666666666666666,\"#ed7953\"],[0.7777777777777778,\"#fb9f3a\"],[0.8888888888888888,\"#fdca26\"],[1.0,\"#f0f921\"]],\"type\":\"heatmapgl\"}],\"histogram\":[{\"marker\":{\"pattern\":{\"fillmode\":\"overlay\",\"size\":10,\"solidity\":0.2}},\"type\":\"histogram\"}],\"histogram2d\":[{\"colorbar\":{\"outlinewidth\":0,\"ticks\":\"\"},\"colorscale\":[[0.0,\"#0d0887\"],[0.1111111111111111,\"#46039f\"],[0.2222222222222222,\"#7201a8\"],[0.3333333333333333,\"#9c179e\"],[0.4444444444444444,\"#bd3786\"],[0.5555555555555556,\"#d8576b\"],[0.6666666666666666,\"#ed7953\"],[0.7777777777777778,\"#fb9f3a\"],[0.8888888888888888,\"#fdca26\"],[1.0,\"#f0f921\"]],\"type\":\"histogram2d\"}],\"histogram2dcontour\":[{\"colorbar\":{\"outlinewidth\":0,\"ticks\":\"\"},\"colorscale\":[[0.0,\"#0d0887\"],[0.1111111111111111,\"#46039f\"],[0.2222222222222222,\"#7201a8\"],[0.3333333333333333,\"#9c179e\"],[0.4444444444444444,\"#bd3786\"],[0.5555555555555556,\"#d8576b\"],[0.6666666666666666,\"#ed7953\"],[0.7777777777777778,\"#fb9f3a\"],[0.8888888888888888,\"#fdca26\"],[1.0,\"#f0f921\"]],\"type\":\"histogram2dcontour\"}],\"mesh3d\":[{\"colorbar\":{\"outlinewidth\":0,\"ticks\":\"\"},\"type\":\"mesh3d\"}],\"parcoords\":[{\"line\":{\"colorbar\":{\"outlinewidth\":0,\"ticks\":\"\"}},\"type\":\"parcoords\"}],\"pie\":[{\"automargin\":true,\"type\":\"pie\"}],\"scatter\":[{\"marker\":{\"colorbar\":{\"outlinewidth\":0,\"ticks\":\"\"}},\"type\":\"scatter\"}],\"scatter3d\":[{\"line\":{\"colorbar\":{\"outlinewidth\":0,\"ticks\":\"\"}},\"marker\":{\"colorbar\":{\"outlinewidth\":0,\"ticks\":\"\"}},\"type\":\"scatter3d\"}],\"scattercarpet\":[{\"marker\":{\"colorbar\":{\"outlinewidth\":0,\"ticks\":\"\"}},\"type\":\"scattercarpet\"}],\"scattergeo\":[{\"marker\":{\"colorbar\":{\"outlinewidth\":0,\"ticks\":\"\"}},\"type\":\"scattergeo\"}],\"scattergl\":[{\"marker\":{\"colorbar\":{\"outlinewidth\":0,\"ticks\":\"\"}},\"type\":\"scattergl\"}],\"scattermapbox\":[{\"marker\":{\"colorbar\":{\"outlinewidth\":0,\"ticks\":\"\"}},\"type\":\"scattermapbox\"}],\"scatterpolar\":[{\"marker\":{\"colorbar\":{\"outlinewidth\":0,\"ticks\":\"\"}},\"type\":\"scatterpolar\"}],\"scatterpolargl\":[{\"marker\":{\"colorbar\":{\"outlinewidth\":0,\"ticks\":\"\"}},\"type\":\"scatterpolargl\"}],\"scatterternary\":[{\"marker\":{\"colorbar\":{\"outlinewidth\":0,\"ticks\":\"\"}},\"type\":\"scatterternary\"}],\"surface\":[{\"colorbar\":{\"outlinewidth\":0,\"ticks\":\"\"},\"colorscale\":[[0.0,\"#0d0887\"],[0.1111111111111111,\"#46039f\"],[0.2222222222222222,\"#7201a8\"],[0.3333333333333333,\"#9c179e\"],[0.4444444444444444,\"#bd3786\"],[0.5555555555555556,\"#d8576b\"],[0.6666666666666666,\"#ed7953\"],[0.7777777777777778,\"#fb9f3a\"],[0.8888888888888888,\"#fdca26\"],[1.0,\"#f0f921\"]],\"type\":\"surface\"}],\"table\":[{\"cells\":{\"fill\":{\"color\":\"#EBF0F8\"},\"line\":{\"color\":\"white\"}},\"header\":{\"fill\":{\"color\":\"#C8D4E3\"},\"line\":{\"color\":\"white\"}},\"type\":\"table\"}]},\"layout\":{\"annotationdefaults\":{\"arrowcolor\":\"#2a3f5f\",\"arrowhead\":0,\"arrowwidth\":1},\"autotypenumbers\":\"strict\",\"coloraxis\":{\"colorbar\":{\"outlinewidth\":0,\"ticks\":\"\"}},\"colorscale\":{\"diverging\":[[0,\"#8e0152\"],[0.1,\"#c51b7d\"],[0.2,\"#de77ae\"],[0.3,\"#f1b6da\"],[0.4,\"#fde0ef\"],[0.5,\"#f7f7f7\"],[0.6,\"#e6f5d0\"],[0.7,\"#b8e186\"],[0.8,\"#7fbc41\"],[0.9,\"#4d9221\"],[1,\"#276419\"]],\"sequential\":[[0.0,\"#0d0887\"],[0.1111111111111111,\"#46039f\"],[0.2222222222222222,\"#7201a8\"],[0.3333333333333333,\"#9c179e\"],[0.4444444444444444,\"#bd3786\"],[0.5555555555555556,\"#d8576b\"],[0.6666666666666666,\"#ed7953\"],[0.7777777777777778,\"#fb9f3a\"],[0.8888888888888888,\"#fdca26\"],[1.0,\"#f0f921\"]],\"sequentialminus\":[[0.0,\"#0d0887\"],[0.1111111111111111,\"#46039f\"],[0.2222222222222222,\"#7201a8\"],[0.3333333333333333,\"#9c179e\"],[0.4444444444444444,\"#bd3786\"],[0.5555555555555556,\"#d8576b\"],[0.6666666666666666,\"#ed7953\"],[0.7777777777777778,\"#fb9f3a\"],[0.8888888888888888,\"#fdca26\"],[1.0,\"#f0f921\"]]},\"colorway\":[\"#636efa\",\"#EF553B\",\"#00cc96\",\"#ab63fa\",\"#FFA15A\",\"#19d3f3\",\"#FF6692\",\"#B6E880\",\"#FF97FF\",\"#FECB52\"],\"font\":{\"color\":\"#2a3f5f\"},\"geo\":{\"bgcolor\":\"white\",\"lakecolor\":\"white\",\"landcolor\":\"#E5ECF6\",\"showlakes\":true,\"showland\":true,\"subunitcolor\":\"white\"},\"hoverlabel\":{\"align\":\"left\"},\"hovermode\":\"closest\",\"mapbox\":{\"style\":\"light\"},\"paper_bgcolor\":\"white\",\"plot_bgcolor\":\"#E5ECF6\",\"polar\":{\"angularaxis\":{\"gridcolor\":\"white\",\"linecolor\":\"white\",\"ticks\":\"\"},\"bgcolor\":\"#E5ECF6\",\"radialaxis\":{\"gridcolor\":\"white\",\"linecolor\":\"white\",\"ticks\":\"\"}},\"scene\":{\"xaxis\":{\"backgroundcolor\":\"#E5ECF6\",\"gridcolor\":\"white\",\"gridwidth\":2,\"linecolor\":\"white\",\"showbackground\":true,\"ticks\":\"\",\"zerolinecolor\":\"white\"},\"yaxis\":{\"backgroundcolor\":\"#E5ECF6\",\"gridcolor\":\"white\",\"gridwidth\":2,\"linecolor\":\"white\",\"showbackground\":true,\"ticks\":\"\",\"zerolinecolor\":\"white\"},\"zaxis\":{\"backgroundcolor\":\"#E5ECF6\",\"gridcolor\":\"white\",\"gridwidth\":2,\"linecolor\":\"white\",\"showbackground\":true,\"ticks\":\"\",\"zerolinecolor\":\"white\"}},\"shapedefaults\":{\"line\":{\"color\":\"#2a3f5f\"}},\"ternary\":{\"aaxis\":{\"gridcolor\":\"white\",\"linecolor\":\"white\",\"ticks\":\"\"},\"baxis\":{\"gridcolor\":\"white\",\"linecolor\":\"white\",\"ticks\":\"\"},\"bgcolor\":\"#E5ECF6\",\"caxis\":{\"gridcolor\":\"white\",\"linecolor\":\"white\",\"ticks\":\"\"}},\"title\":{\"x\":0.05},\"xaxis\":{\"automargin\":true,\"gridcolor\":\"white\",\"linecolor\":\"white\",\"ticks\":\"\",\"title\":{\"standoff\":15},\"zerolinecolor\":\"white\",\"zerolinewidth\":2},\"yaxis\":{\"automargin\":true,\"gridcolor\":\"white\",\"linecolor\":\"white\",\"ticks\":\"\",\"title\":{\"standoff\":15},\"zerolinecolor\":\"white\",\"zerolinewidth\":2}}},\"width\":800},                        {\"responsive\": true}                    ).then(function(){\n",
       "                            \n",
       "var gd = document.getElementById('269f55e5-4b79-4059-b6b3-0d7ec1a7c33f');\n",
       "var x = new MutationObserver(function (mutations, observer) {{\n",
       "        var display = window.getComputedStyle(gd).display;\n",
       "        if (!display || display === 'none') {{\n",
       "            console.log([gd, 'removed!']);\n",
       "            Plotly.purge(gd);\n",
       "            observer.disconnect();\n",
       "        }}\n",
       "}});\n",
       "\n",
       "// Listen for the removal of the full notebook cells\n",
       "var notebookContainer = gd.closest('#notebook-container');\n",
       "if (notebookContainer) {{\n",
       "    x.observe(notebookContainer, {childList: true});\n",
       "}}\n",
       "\n",
       "// Listen for the clearing of the current output cell\n",
       "var outputEl = gd.closest('.output');\n",
       "if (outputEl) {{\n",
       "    x.observe(outputEl, {childList: true});\n",
       "}}\n",
       "\n",
       "                        })                };                });            </script>        </div>"
      ]
     },
     "metadata": {},
     "output_type": "display_data"
    }
   ],
   "source": [
    "k=6\n",
    "G = nx.Graph(dataset[k].edge_index.t().tolist())\n",
    "cover_ploter(G)"
   ]
  }
 ],
 "metadata": {
  "kernelspec": {
   "display_name": "Python 3 (ipykernel)",
   "language": "python",
   "name": "python3"
  },
  "language_info": {
   "codemirror_mode": {
    "name": "ipython",
    "version": 3
   },
   "file_extension": ".py",
   "mimetype": "text/x-python",
   "name": "python",
   "nbconvert_exporter": "python",
   "pygments_lexer": "ipython3",
   "version": "3.7.5"
  }
 },
 "nbformat": 4,
 "nbformat_minor": 5
}
