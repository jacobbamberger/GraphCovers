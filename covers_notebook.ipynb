{
 "cells": [
  {
   "cell_type": "code",
   "execution_count": 24,
   "id": "e8b4fa41-85f1-41bd-9061-fa570e685fce",
   "metadata": {},
   "outputs": [],
   "source": [
    "import networkx as nx\n",
    "from new_covers import *\n",
    "#TODO: add reference to paper"
   ]
  },
  {
   "cell_type": "markdown",
   "id": "1b7b1ceb-c571-4908-83c1-56d54b8bbb98",
   "metadata": {},
   "source": [
    "# Procedure\n",
    "In this notebook we generate a dataset of non isomorphic covering spaces of degree $d$ of a base graph $G$ satisfying some assumptions. By the Theorem of the paper, the resulting graphs are pairwise non-isomorphic.\n",
    "\n",
    "\n",
    "Given a graph $G$ satisfying some conditions (connected, but this will be relaxed in the future), all neighbouring nodes are distinguishable by colour refinement, and it has Euler characteristic <0), and a parameter $k$, we generate all coverings of $G$ of degree $k$. \n",
    "\n",
    "We will then train GNNs to try to distinguish them, reproducing the results of the paper."
   ]
  },
  {
   "cell_type": "code",
   "execution_count": 2,
   "id": "e8029d38-ac6a-42a0-be96-cb4a61970969",
   "metadata": {},
   "outputs": [],
   "source": [
    "# Start by fixing a base graph, connected with two loops, and each nodes are distinguishable by WL colouring\n",
    "\n",
    "edge_index = [[0, 1], [1, 0],\n",
    "              [1, 2], [2, 1],\n",
    "              [2, 3], [3, 2],\n",
    "              [2, 4], [4, 2],\n",
    "              [3, 4], [4, 3],\n",
    "              [4, 5], [5, 4],\n",
    "              [5, 6], [6, 5],\n",
    "              [5, 8], [8, 5],\n",
    "              [6, 7], [7, 6],\n",
    "              [6, 8], [8, 6]]\n",
    "\n",
    "# Distinguished edges (one per cycle) to make sampling more efficient\n",
    "cycle_edge = [[2, 4], [5, 6]]"
   ]
  },
  {
   "cell_type": "code",
   "execution_count": 3,
   "id": "e1fc91c5-aefd-46dd-a5d0-fd0209f11843",
   "metadata": {},
   "outputs": [
    {
     "data": {
      "image/png": "[encoded data removed]",
      "text/plain": [
       "<Figure size 432x288 with 1 Axes>"
      ]
     },
     "metadata": {},
     "output_type": "display_data"
    }
   ],
   "source": [
    "G = nx.Graph(edge_index)\n",
    "nx.draw(G)"
   ]
  },
  {
   "cell_type": "code",
   "execution_count": 4,
   "id": "e8cbc43b-10ca-4d94-b94a-02442b138416",
   "metadata": {},
   "outputs": [
    {
     "name": "stdout",
     "output_type": "stream",
     "text": [
      "Total number of covers to check:  576\n",
      "We found  5  covers ! Only in  41  tries!\n"
     ]
    }
   ],
   "source": [
    "# Generate all pairwise non-isomorphic degree 3 covers \n",
    "graphCovers = gen_graphCovers(edge_index, degree=4, cycle_edge=cycle_edge, nb_covers=5)"
   ]
  },
  {
   "cell_type": "code",
   "execution_count": 21,
   "id": "0aabb2b6-2d08-42c2-83ef-087d10b36927",
   "metadata": {},
   "outputs": [
    {
     "data": {
      "image/png": "[encoded data removed]",
      "text/plain": [
       "<Figure size 432x288 with 1 Axes>"
      ]
     },
     "metadata": {},
     "output_type": "display_data"
    }
   ],
   "source": [
    "# Here is a plot from networkx. It is random and rather confusing, check out our custom visualization plot below!\n",
    "nx.draw(graphCovers[0].nxGraph)"
   ]
  },
  {
   "cell_type": "markdown",
   "id": "9a393f89-72d4-4ba1-aec4-e7678a472c67",
   "metadata": {},
   "source": [
    "## Custom cover visualisation"
   ]
  },
  {
   "cell_type": "code",
   "execution_count": 22,
   "id": "3eef994d-3b46-431e-a2af-7c4918cdc65d",
   "metadata": {},
   "outputs": [],
   "source": [
    "# We set good coordinates for nodes in base graph (this is optional)\n",
    "# If these are not available, set coord=None\n",
    "coord = {0: [-4., 0.],\n",
    "        1: [-3., 0.],\n",
    "        2: [-2., 0.],\n",
    "        4: [-1., 0.],\n",
    "        5: [0., 0.],\n",
    "        6: [1., 0.],\n",
    "        7: [2., 0.],\n",
    "        3: [-1.5, np.sqrt(0.75)],\n",
    "        8: [0.5, np.sqrt(0.75)]}"
   ]
  },
  {
   "cell_type": "code",
   "execution_count": 23,
   "id": "52a467a5-efdf-4a26-b90f-f48d67b4c51c",
   "metadata": {},
   "outputs": [
    {
     "data": {
      "application/vnd.plotly.v1+json": {
       "config": {
        "plotlyServerURL": "https://plot.ly"
       },
       "data": [
        {
         "hoverinfo": "none",
         "line": {
          "color": "#888",
          "width": 5
         },
         "mode": "lines",
         "type": "scatter3d",
         "x": [
          -4,
          -3,
          null,
          -3,
          -2,
          null,
          -4,
          -3,
          null,
          -3,
          -2,
          null,
          -4,
          -3,
          null,
          -3,
          -2,
          null,
          -4,
          -3,
          null,
          -3,
          -2,
          null,
          -2,
          -1.5,
          null,
          -2,
          -1,
          null,
          -2,
          -1.5,
          null,
          -2,
          -1,
          null,
          -2,
          -1.5,
          null,
          -2,
          -1,
          null,
          -2,
          -1.5,
          null,
          -2,
          -1,
          null,
          -1.5,
          -1,
          null,
          -1.5,
          -1,
          null,
          -1.5,
          -1,
          null,
          -1.5,
          -1,
          null,
          -1,
          0,
          null,
          -1,
          0,
          null,
          -1,
          0,
          null,
          -1,
          0,
          null,
          0,
          1,
          null,
          0,
          0.5,
          null,
          0,
          1,
          null,
          0,
          0.5,
          null,
          0,
          1,
          null,
          0,
          0.5,
          null,
          0,
          1,
          null,
          0,
          0.5,
          null,
          1,
          2,
          null,
          1,
          0.5,
          null,
          1,
          2,
          null,
          1,
          0.5,
          null,
          1,
          2,
          null,
          1,
          0.5,
          null,
          1,
          2,
          null,
          1,
          0.5,
          null
         ],
         "y": [
          0,
          0,
          null,
          0,
          0,
          null,
          0,
          0,
          null,
          0,
          0,
          null,
          0,
          0,
          null,
          0,
          0,
          null,
          0,
          0,
          null,
          0,
          0,
          null,
          0,
          0.8660254037844386,
          null,
          0,
          0,
          null,
          0,
          0.8660254037844386,
          null,
          0,
          0,
          null,
          0,
          0.8660254037844386,
          null,
          0,
          0,
          null,
          0,
          0.8660254037844386,
          null,
          0,
          0,
          null,
          0.8660254037844386,
          0,
          null,
          0.8660254037844386,
          0,
          null,
          0.8660254037844386,
          0,
          null,
          0.8660254037844386,
          0,
          null,
          0,
          0,
          null,
          0,
          0,
          null,
          0,
          0,
          null,
          0,
          0,
          null,
          0,
          0,
          null,
          0,
          0.8660254037844386,
          null,
          0,
          0,
          null,
          0,
          0.8660254037844386,
          null,
          0,
          0,
          null,
          0,
          0.8660254037844386,
          null,
          0,
          0,
          null,
          0,
          0.8660254037844386,
          null,
          0,
          0,
          null,
          0,
          0.8660254037844386,
          null,
          0,
          0,
          null,
          0,
          0.8660254037844386,
          null,
          0,
          0,
          null,
          0,
          0.8660254037844386,
          null,
          0,
          0,
          null,
          0,
          0.8660254037844386,
          null
         ],
         "z": [
          0,
          0,
          null,
          0,
          0,
          null,
          0.5,
          0.5,
          null,
          0.5,
          0.5,
          null,
          1,
          1,
          null,
          1,
          1,
          null,
          1.5,
          1.5,
          null,
          1.5,
          1.5,
          null,
          0,
          0,
          null,
          0,
          0,
          null,
          0.5,
          0.5,
          null,
          0.5,
          0.5,
          null,
          1,
          1,
          null,
          1,
          1.5,
          null,
          1.5,
          1.5,
          null,
          1.5,
          1,
          null,
          0,
          0,
          null,
          0.5,
          0.5,
          null,
          1,
          1,
          null,
          1.5,
          1.5,
          null,
          0,
          0,
          null,
          0.5,
          0.5,
          null,
          1.5,
          1.5,
          null,
          1,
          1,
          null,
          0,
          1,
          null,
          0,
          0,
          null,
          0.5,
          1.5,
          null,
          0.5,
          0.5,
          null,
          1,
          0,
          null,
          1,
          1,
          null,
          1.5,
          0.5,
          null,
          1.5,
          1.5,
          null,
          1,
          1,
          null,
          1,
          1,
          null,
          1.5,
          1.5,
          null,
          1.5,
          1.5,
          null,
          0,
          0,
          null,
          0,
          0,
          null,
          0.5,
          0.5,
          null,
          0.5,
          0.5,
          null
         ]
        },
        {
         "hoverinfo": "text",
         "marker": {
          "color": [
           0,
           0.027777777777777776,
           0.05555555555555555,
           0.08333333333333333,
           0.1111111111111111,
           0.1388888888888889,
           0.16666666666666666,
           0.19444444444444442,
           0.2222222222222222,
           0.25,
           0.2777777777777778,
           0.3055555555555555,
           0.3333333333333333,
           0.3611111111111111,
           0.38888888888888884,
           0.41666666666666663,
           0.4444444444444444,
           0.4722222222222222,
           0.5,
           0.5277777777777778,
           0.5555555555555556,
           0.5833333333333333,
           0.611111111111111,
           0.6388888888888888,
           0.6666666666666666,
           0.6944444444444444,
           0.7222222222222222,
           0.75,
           0.7777777777777777,
           0.8055555555555555,
           0.8333333333333333,
           0.861111111111111,
           0.8888888888888888,
           0.9166666666666666,
           0.9444444444444444,
           0.9722222222222222
          ],
          "colorscale": [
           [
            0,
            "rgb(255,255,217)"
           ],
           [
            0.125,
            "rgb(237,248,177)"
           ],
           [
            0.25,
            "rgb(199,233,180)"
           ],
           [
            0.375,
            "rgb(127,205,187)"
           ],
           [
            0.5,
            "rgb(65,182,196)"
           ],
           [
            0.625,
            "rgb(29,145,192)"
           ],
           [
            0.75,
            "rgb(34,94,168)"
           ],
           [
            0.875,
            "rgb(37,52,148)"
           ],
           [
            1,
            "rgb(8,29,88)"
           ]
          ],
          "line": {
           "width": 2
          },
          "reversescale": true,
          "showscale": false,
          "size": 10
         },
         "mode": "markers",
         "type": "scatter3d",
         "x": [
          -4,
          -3,
          -4,
          -3,
          -4,
          -3,
          -4,
          -3,
          -2,
          -2,
          -2,
          -2,
          -1.5,
          -1.5,
          -1.5,
          -1.5,
          -1,
          -1,
          -1,
          -1,
          0,
          0,
          0,
          0,
          1,
          1,
          1,
          1,
          0.5,
          0.5,
          0.5,
          0.5,
          2,
          2,
          2,
          2
         ],
         "y": [
          0,
          0,
          0,
          0,
          0,
          0,
          0,
          0,
          0,
          0,
          0,
          0,
          0.8660254037844386,
          0.8660254037844386,
          0.8660254037844386,
          0.8660254037844386,
          0,
          0,
          0,
          0,
          0,
          0,
          0,
          0,
          0,
          0,
          0,
          0,
          0.8660254037844386,
          0.8660254037844386,
          0.8660254037844386,
          0.8660254037844386,
          0,
          0,
          0,
          0
         ],
         "z": [
          0,
          0,
          0.5,
          0.5,
          1,
          1,
          1.5,
          1.5,
          0,
          0.5,
          1,
          1.5,
          0,
          0.5,
          1,
          1.5,
          0,
          0.5,
          1.5,
          1,
          0,
          0.5,
          1,
          1.5,
          1,
          1.5,
          0,
          0.5,
          0,
          0.5,
          1,
          1.5,
          0,
          0.5,
          1,
          1.5
         ]
        }
       ],
       "layout": {
        "height": 700,
        "scene": {
         "aspectratio": {
          "x": 1,
          "y": 0.2,
          "z": 0.7
         },
         "camera": {
          "eye": {
           "x": 0.1,
           "y": -1,
           "z": 0.5
          },
          "up": {
           "x": 0,
           "y": 0,
           "z": 1
          }
         },
         "xaxis": {
          "showbackground": false,
          "showgrid": false,
          "type": "linear",
          "visible": false
         },
         "yaxis": {
          "showbackground": false,
          "showgrid": false,
          "type": "linear",
          "visible": false
         },
         "zaxis": {
          "showbackground": false,
          "showgrid": false,
          "type": "linear",
          "visible": false
         }
        },
        "showlegend": false,
        "template": {
         "data": {
          "bar": [
           {
            "error_x": {
             "color": "#2a3f5f"
            },
            "error_y": {
             "color": "#2a3f5f"
            },
            "marker": {
             "line": {
              "color": "#E5ECF6",
              "width": 0.5
             },
             "pattern": {
              "fillmode": "overlay",
              "size": 10,
              "solidity": 0.2
             }
            },
            "type": "bar"
           }
          ],
          "barpolar": [
           {
            "marker": {
             "line": {
              "color": "#E5ECF6",
              "width": 0.5
             },
             "pattern": {
              "fillmode": "overlay",
              "size": 10,
              "solidity": 0.2
             }
            },
            "type": "barpolar"
           }
          ],
          "carpet": [
           {
            "aaxis": {
             "endlinecolor": "#2a3f5f",
             "gridcolor": "white",
             "linecolor": "white",
             "minorgridcolor": "white",
             "startlinecolor": "#2a3f5f"
            },
            "baxis": {
             "endlinecolor": "#2a3f5f",
             "gridcolor": "white",
             "linecolor": "white",
             "minorgridcolor": "white",
             "startlinecolor": "#2a3f5f"
            },
            "type": "carpet"
           }
          ],
          "choropleth": [
           {
            "colorbar": {
             "outlinewidth": 0,
             "ticks": ""
            },
            "type": "choropleth"
           }
          ],
          "contour": [
           {
            "colorbar": {
             "outlinewidth": 0,
             "ticks": ""
            },
            "colorscale": [
             [
              0,
              "#0d0887"
             ],
             [
              0.1111111111111111,
              "#46039f"
             ],
             [
              0.2222222222222222,
              "#7201a8"
             ],
             [
              0.3333333333333333,
              "#9c179e"
             ],
             [
              0.4444444444444444,
              "#bd3786"
             ],
             [
              0.5555555555555556,
              "#d8576b"
             ],
             [
              0.6666666666666666,
              "#ed7953"
             ],
             [
              0.7777777777777778,
              "#fb9f3a"
             ],
             [
              0.8888888888888888,
              "#fdca26"
             ],
             [
              1,
              "#f0f921"
             ]
            ],
            "type": "contour"
           }
          ],
          "contourcarpet": [
           {
            "colorbar": {
             "outlinewidth": 0,
             "ticks": ""
            },
            "type": "contourcarpet"
           }
          ],
          "heatmap": [
           {
            "colorbar": {
             "outlinewidth": 0,
             "ticks": ""
            },
            "colorscale": [
             [
              0,
              "#0d0887"
             ],
             [
              0.1111111111111111,
              "#46039f"
             ],
             [
              0.2222222222222222,
              "#7201a8"
             ],
             [
              0.3333333333333333,
              "#9c179e"
             ],
             [
              0.4444444444444444,
              "#bd3786"
             ],
             [
              0.5555555555555556,
              "#d8576b"
             ],
             [
              0.6666666666666666,
              "#ed7953"
             ],
             [
              0.7777777777777778,
              "#fb9f3a"
             ],
             [
              0.8888888888888888,
              "#fdca26"
             ],
             [
              1,
              "#f0f921"
             ]
            ],
            "type": "heatmap"
           }
          ],
          "heatmapgl": [
           {
            "colorbar": {
             "outlinewidth": 0,
             "ticks": ""
            },
            "colorscale": [
             [
              0,
              "#0d0887"
             ],
             [
              0.1111111111111111,
              "#46039f"
             ],
             [
              0.2222222222222222,
              "#7201a8"
             ],
             [
              0.3333333333333333,
              "#9c179e"
             ],
             [
              0.4444444444444444,
              "#bd3786"
             ],
             [
              0.5555555555555556,
              "#d8576b"
             ],
             [
              0.6666666666666666,
              "#ed7953"
             ],
             [
              0.7777777777777778,
              "#fb9f3a"
             ],
             [
              0.8888888888888888,
              "#fdca26"
             ],
             [
              1,
              "#f0f921"
             ]
            ],
            "type": "heatmapgl"
           }
          ],
          "histogram": [
           {
            "marker": {
             "pattern": {
              "fillmode": "overlay",
              "size": 10,
              "solidity": 0.2
             }
            },
            "type": "histogram"
           }
          ],
          "histogram2d": [
           {
            "colorbar": {
             "outlinewidth": 0,
             "ticks": ""
            },
            "colorscale": [
             [
              0,
              "#0d0887"
             ],
             [
              0.1111111111111111,
              "#46039f"
             ],
             [
              0.2222222222222222,
              "#7201a8"
             ],
             [
              0.3333333333333333,
              "#9c179e"
             ],
             [
              0.4444444444444444,
              "#bd3786"
             ],
             [
              0.5555555555555556,
              "#d8576b"
             ],
             [
              0.6666666666666666,
              "#ed7953"
             ],
             [
              0.7777777777777778,
              "#fb9f3a"
             ],
             [
              0.8888888888888888,
              "#fdca26"
             ],
             [
              1,
              "#f0f921"
             ]
            ],
            "type": "histogram2d"
           }
          ],
          "histogram2dcontour": [
           {
            "colorbar": {
             "outlinewidth": 0,
             "ticks": ""
            },
            "colorscale": [
             [
              0,
              "#0d0887"
             ],
             [
              0.1111111111111111,
              "#46039f"
             ],
             [
              0.2222222222222222,
              "#7201a8"
             ],
             [
              0.3333333333333333,
              "#9c179e"
             ],
             [
              0.4444444444444444,
              "#bd3786"
             ],
             [
              0.5555555555555556,
              "#d8576b"
             ],
             [
              0.6666666666666666,
              "#ed7953"
             ],
             [
              0.7777777777777778,
              "#fb9f3a"
             ],
             [
              0.8888888888888888,
              "#fdca26"
             ],
             [
              1,
              "#f0f921"
             ]
            ],
            "type": "histogram2dcontour"
           }
          ],
          "mesh3d": [
           {
            "colorbar": {
             "outlinewidth": 0,
             "ticks": ""
            },
            "type": "mesh3d"
           }
          ],
          "parcoords": [
           {
            "line": {
             "colorbar": {
              "outlinewidth": 0,
              "ticks": ""
             }
            },
            "type": "parcoords"
           }
          ],
          "pie": [
           {
            "automargin": true,
            "type": "pie"
           }
          ],
          "scatter": [
           {
            "marker": {
             "colorbar": {
              "outlinewidth": 0,
              "ticks": ""
             }
            },
            "type": "scatter"
           }
          ],
          "scatter3d": [
           {
            "line": {
             "colorbar": {
              "outlinewidth": 0,
              "ticks": ""
             }
            },
            "marker": {
             "colorbar": {
              "outlinewidth": 0,
              "ticks": ""
             }
            },
            "type": "scatter3d"
           }
          ],
          "scattercarpet": [
           {
            "marker": {
             "colorbar": {
              "outlinewidth": 0,
              "ticks": ""
             }
            },
            "type": "scattercarpet"
           }
          ],
          "scattergeo": [
           {
            "marker": {
             "colorbar": {
              "outlinewidth": 0,
              "ticks": ""
             }
            },
            "type": "scattergeo"
           }
          ],
          "scattergl": [
           {
            "marker": {
             "colorbar": {
              "outlinewidth": 0,
              "ticks": ""
             }
            },
            "type": "scattergl"
           }
          ],
          "scattermapbox": [
           {
            "marker": {
             "colorbar": {
              "outlinewidth": 0,
              "ticks": ""
             }
            },
            "type": "scattermapbox"
           }
          ],
          "scatterpolar": [
           {
            "marker": {
             "colorbar": {
              "outlinewidth": 0,
              "ticks": ""
             }
            },
            "type": "scatterpolar"
           }
          ],
          "scatterpolargl": [
           {
            "marker": {
             "colorbar": {
              "outlinewidth": 0,
              "ticks": ""
             }
            },
            "type": "scatterpolargl"
           }
          ],
          "scatterternary": [
           {
            "marker": {
             "colorbar": {
              "outlinewidth": 0,
              "ticks": ""
             }
            },
            "type": "scatterternary"
           }
          ],
          "surface": [
           {
            "colorbar": {
             "outlinewidth": 0,
             "ticks": ""
            },
            "colorscale": [
             [
              0,
              "#0d0887"
             ],
             [
              0.1111111111111111,
              "#46039f"
             ],
             [
              0.2222222222222222,
              "#7201a8"
             ],
             [
              0.3333333333333333,
              "#9c179e"
             ],
             [
              0.4444444444444444,
              "#bd3786"
             ],
             [
              0.5555555555555556,
              "#d8576b"
             ],
             [
              0.6666666666666666,
              "#ed7953"
             ],
             [
              0.7777777777777778,
              "#fb9f3a"
             ],
             [
              0.8888888888888888,
              "#fdca26"
             ],
             [
              1,
              "#f0f921"
             ]
            ],
            "type": "surface"
           }
          ],
          "table": [
           {
            "cells": {
             "fill": {
              "color": "#EBF0F8"
             },
             "line": {
              "color": "white"
             }
            },
            "header": {
             "fill": {
              "color": "#C8D4E3"
             },
             "line": {
              "color": "white"
             }
            },
            "type": "table"
           }
          ]
         },
         "layout": {
          "annotationdefaults": {
           "arrowcolor": "#2a3f5f",
           "arrowhead": 0,
           "arrowwidth": 1
          },
          "autotypenumbers": "strict",
          "coloraxis": {
           "colorbar": {
            "outlinewidth": 0,
            "ticks": ""
           }
          },
          "colorscale": {
           "diverging": [
            [
             0,
             "#8e0152"
            ],
            [
             0.1,
             "#c51b7d"
            ],
            [
             0.2,
             "#de77ae"
            ],
            [
             0.3,
             "#f1b6da"
            ],
            [
             0.4,
             "#fde0ef"
            ],
            [
             0.5,
             "#f7f7f7"
            ],
            [
             0.6,
             "#e6f5d0"
            ],
            [
             0.7,
             "#b8e186"
            ],
            [
             0.8,
             "#7fbc41"
            ],
            [
             0.9,
             "#4d9221"
            ],
            [
             1,
             "#276419"
            ]
           ],
           "sequential": [
            [
             0,
             "#0d0887"
            ],
            [
             0.1111111111111111,
             "#46039f"
            ],
            [
             0.2222222222222222,
             "#7201a8"
            ],
            [
             0.3333333333333333,
             "#9c179e"
            ],
            [
             0.4444444444444444,
             "#bd3786"
            ],
            [
             0.5555555555555556,
             "#d8576b"
            ],
            [
             0.6666666666666666,
             "#ed7953"
            ],
            [
             0.7777777777777778,
             "#fb9f3a"
            ],
            [
             0.8888888888888888,
             "#fdca26"
            ],
            [
             1,
             "#f0f921"
            ]
           ],
           "sequentialminus": [
            [
             0,
             "#0d0887"
            ],
            [
             0.1111111111111111,
             "#46039f"
            ],
            [
             0.2222222222222222,
             "#7201a8"
            ],
            [
             0.3333333333333333,
             "#9c179e"
            ],
            [
             0.4444444444444444,
             "#bd3786"
            ],
            [
             0.5555555555555556,
             "#d8576b"
            ],
            [
             0.6666666666666666,
             "#ed7953"
            ],
            [
             0.7777777777777778,
             "#fb9f3a"
            ],
            [
             0.8888888888888888,
             "#fdca26"
            ],
            [
             1,
             "#f0f921"
            ]
           ]
          },
          "colorway": [
           "#636efa",
           "#EF553B",
           "#00cc96",
           "#ab63fa",
           "#FFA15A",
           "#19d3f3",
           "#FF6692",
           "#B6E880",
           "#FF97FF",
           "#FECB52"
          ],
          "font": {
           "color": "#2a3f5f"
          },
          "geo": {
           "bgcolor": "white",
           "lakecolor": "white",
           "landcolor": "#E5ECF6",
           "showlakes": true,
           "showland": true,
           "subunitcolor": "white"
          },
          "hoverlabel": {
           "align": "left"
          },
          "hovermode": "closest",
          "mapbox": {
           "style": "light"
          },
          "paper_bgcolor": "white",
          "plot_bgcolor": "#E5ECF6",
          "polar": {
           "angularaxis": {
            "gridcolor": "white",
            "linecolor": "white",
            "ticks": ""
           },
           "bgcolor": "#E5ECF6",
           "radialaxis": {
            "gridcolor": "white",
            "linecolor": "white",
            "ticks": ""
           }
          },
          "scene": {
           "xaxis": {
            "backgroundcolor": "#E5ECF6",
            "gridcolor": "white",
            "gridwidth": 2,
            "linecolor": "white",
            "showbackground": true,
            "ticks": "",
            "zerolinecolor": "white"
           },
           "yaxis": {
            "backgroundcolor": "#E5ECF6",
            "gridcolor": "white",
            "gridwidth": 2,
            "linecolor": "white",
            "showbackground": true,
            "ticks": "",
            "zerolinecolor": "white"
           },
           "zaxis": {
            "backgroundcolor": "#E5ECF6",
            "gridcolor": "white",
            "gridwidth": 2,
            "linecolor": "white",
            "showbackground": true,
            "ticks": "",
            "zerolinecolor": "white"
           }
          },
          "shapedefaults": {
           "line": {
            "color": "#2a3f5f"
           }
          },
          "ternary": {
           "aaxis": {
            "gridcolor": "white",
            "linecolor": "white",
            "ticks": ""
           },
           "baxis": {
            "gridcolor": "white",
            "linecolor": "white",
            "ticks": ""
           },
           "bgcolor": "#E5ECF6",
           "caxis": {
            "gridcolor": "white",
            "linecolor": "white",
            "ticks": ""
           }
          },
          "title": {
           "x": 0.05
          },
          "xaxis": {
           "automargin": true,
           "gridcolor": "white",
           "linecolor": "white",
           "ticks": "",
           "title": {
            "standoff": 15
           },
           "zerolinecolor": "white",
           "zerolinewidth": 2
          },
          "yaxis": {
           "automargin": true,
           "gridcolor": "white",
           "linecolor": "white",
           "ticks": "",
           "title": {
            "standoff": 15
           },
           "zerolinecolor": "white",
           "zerolinewidth": 2
          }
         }
        },
        "width": 1000
       }
      },
      "image/png": "[encoded data removed]",
      "text/html": [
       "<div>                            <div id=\"20382d66-44b5-4146-9e00-2f630355436f\" class=\"plotly-graph-div\" style=\"height:700px; width:1000px;\"></div>            <script type=\"text/javascript\">                require([\"plotly\"], function(Plotly) {                    window.PLOTLYENV=window.PLOTLYENV || {};                                    if (document.getElementById(\"20382d66-44b5-4146-9e00-2f630355436f\")) {                    Plotly.newPlot(                        \"20382d66-44b5-4146-9e00-2f630355436f\",                        [{\"hoverinfo\":\"none\",\"line\":{\"color\":\"#888\",\"width\":5},\"mode\":\"lines\",\"type\":\"scatter3d\",\"x\":[-4.0,-3.0,null,-3.0,-2.0,null,-4.0,-3.0,null,-3.0,-2.0,null,-4.0,-3.0,null,-3.0,-2.0,null,-4.0,-3.0,null,-3.0,-2.0,null,-2.0,-1.5,null,-2.0,-1.0,null,-2.0,-1.5,null,-2.0,-1.0,null,-2.0,-1.5,null,-2.0,-1.0,null,-2.0,-1.5,null,-2.0,-1.0,null,-1.5,-1.0,null,-1.5,-1.0,null,-1.5,-1.0,null,-1.5,-1.0,null,-1.0,0.0,null,-1.0,0.0,null,-1.0,0.0,null,-1.0,0.0,null,0.0,1.0,null,0.0,0.5,null,0.0,1.0,null,0.0,0.5,null,0.0,1.0,null,0.0,0.5,null,0.0,1.0,null,0.0,0.5,null,1.0,2.0,null,1.0,0.5,null,1.0,2.0,null,1.0,0.5,null,1.0,2.0,null,1.0,0.5,null,1.0,2.0,null,1.0,0.5,null],\"y\":[0.0,0.0,null,0.0,0.0,null,0.0,0.0,null,0.0,0.0,null,0.0,0.0,null,0.0,0.0,null,0.0,0.0,null,0.0,0.0,null,0.0,0.8660254037844386,null,0.0,0.0,null,0.0,0.8660254037844386,null,0.0,0.0,null,0.0,0.8660254037844386,null,0.0,0.0,null,0.0,0.8660254037844386,null,0.0,0.0,null,0.8660254037844386,0.0,null,0.8660254037844386,0.0,null,0.8660254037844386,0.0,null,0.8660254037844386,0.0,null,0.0,0.0,null,0.0,0.0,null,0.0,0.0,null,0.0,0.0,null,0.0,0.0,null,0.0,0.8660254037844386,null,0.0,0.0,null,0.0,0.8660254037844386,null,0.0,0.0,null,0.0,0.8660254037844386,null,0.0,0.0,null,0.0,0.8660254037844386,null,0.0,0.0,null,0.0,0.8660254037844386,null,0.0,0.0,null,0.0,0.8660254037844386,null,0.0,0.0,null,0.0,0.8660254037844386,null,0.0,0.0,null,0.0,0.8660254037844386,null],\"z\":[0.0,0.0,null,0.0,0.0,null,0.5,0.5,null,0.5,0.5,null,1.0,1.0,null,1.0,1.0,null,1.5,1.5,null,1.5,1.5,null,0.0,0.0,null,0.0,0.0,null,0.5,0.5,null,0.5,0.5,null,1.0,1.0,null,1.0,1.5,null,1.5,1.5,null,1.5,1.0,null,0.0,0.0,null,0.5,0.5,null,1.0,1.0,null,1.5,1.5,null,0.0,0.0,null,0.5,0.5,null,1.5,1.5,null,1.0,1.0,null,0.0,1.0,null,0.0,0.0,null,0.5,1.5,null,0.5,0.5,null,1.0,0.0,null,1.0,1.0,null,1.5,0.5,null,1.5,1.5,null,1.0,1.0,null,1.0,1.0,null,1.5,1.5,null,1.5,1.5,null,0.0,0.0,null,0.0,0.0,null,0.5,0.5,null,0.5,0.5,null]},{\"hoverinfo\":\"text\",\"marker\":{\"color\":[0.0,0.027777777777777776,0.05555555555555555,0.08333333333333333,0.1111111111111111,0.1388888888888889,0.16666666666666666,0.19444444444444442,0.2222222222222222,0.25,0.2777777777777778,0.3055555555555555,0.3333333333333333,0.3611111111111111,0.38888888888888884,0.41666666666666663,0.4444444444444444,0.4722222222222222,0.5,0.5277777777777778,0.5555555555555556,0.5833333333333333,0.611111111111111,0.6388888888888888,0.6666666666666666,0.6944444444444444,0.7222222222222222,0.75,0.7777777777777777,0.8055555555555555,0.8333333333333333,0.861111111111111,0.8888888888888888,0.9166666666666666,0.9444444444444444,0.9722222222222222],\"colorscale\":[[0.0,\"rgb(255,255,217)\"],[0.125,\"rgb(237,248,177)\"],[0.25,\"rgb(199,233,180)\"],[0.375,\"rgb(127,205,187)\"],[0.5,\"rgb(65,182,196)\"],[0.625,\"rgb(29,145,192)\"],[0.75,\"rgb(34,94,168)\"],[0.875,\"rgb(37,52,148)\"],[1.0,\"rgb(8,29,88)\"]],\"line\":{\"width\":2},\"reversescale\":true,\"showscale\":false,\"size\":10},\"mode\":\"markers\",\"type\":\"scatter3d\",\"x\":[-4.0,-3.0,-4.0,-3.0,-4.0,-3.0,-4.0,-3.0,-2.0,-2.0,-2.0,-2.0,-1.5,-1.5,-1.5,-1.5,-1.0,-1.0,-1.0,-1.0,0.0,0.0,0.0,0.0,1.0,1.0,1.0,1.0,0.5,0.5,0.5,0.5,2.0,2.0,2.0,2.0],\"y\":[0.0,0.0,0.0,0.0,0.0,0.0,0.0,0.0,0.0,0.0,0.0,0.0,0.8660254037844386,0.8660254037844386,0.8660254037844386,0.8660254037844386,0.0,0.0,0.0,0.0,0.0,0.0,0.0,0.0,0.0,0.0,0.0,0.0,0.8660254037844386,0.8660254037844386,0.8660254037844386,0.8660254037844386,0.0,0.0,0.0,0.0],\"z\":[0.0,0.0,0.5,0.5,1.0,1.0,1.5,1.5,0.0,0.5,1.0,1.5,0.0,0.5,1.0,1.5,0.0,0.5,1.5,1.0,0.0,0.5,1.0,1.5,1.0,1.5,0.0,0.5,0.0,0.5,1.0,1.5,0.0,0.5,1.0,1.5]}],                        {\"height\":700,\"scene\":{\"aspectratio\":{\"x\":1,\"y\":0.2,\"z\":0.7},\"camera\":{\"eye\":{\"x\":0.1,\"y\":-1,\"z\":0.5},\"up\":{\"x\":0,\"y\":0,\"z\":1}},\"xaxis\":{\"showbackground\":false,\"showgrid\":false,\"visible\":false},\"yaxis\":{\"showbackground\":false,\"showgrid\":false,\"visible\":false},\"zaxis\":{\"showbackground\":false,\"showgrid\":false,\"visible\":false}},\"showlegend\":false,\"template\":{\"data\":{\"bar\":[{\"error_x\":{\"color\":\"#2a3f5f\"},\"error_y\":{\"color\":\"#2a3f5f\"},\"marker\":{\"line\":{\"color\":\"#E5ECF6\",\"width\":0.5},\"pattern\":{\"fillmode\":\"overlay\",\"size\":10,\"solidity\":0.2}},\"type\":\"bar\"}],\"barpolar\":[{\"marker\":{\"line\":{\"color\":\"#E5ECF6\",\"width\":0.5},\"pattern\":{\"fillmode\":\"overlay\",\"size\":10,\"solidity\":0.2}},\"type\":\"barpolar\"}],\"carpet\":[{\"aaxis\":{\"endlinecolor\":\"#2a3f5f\",\"gridcolor\":\"white\",\"linecolor\":\"white\",\"minorgridcolor\":\"white\",\"startlinecolor\":\"#2a3f5f\"},\"baxis\":{\"endlinecolor\":\"#2a3f5f\",\"gridcolor\":\"white\",\"linecolor\":\"white\",\"minorgridcolor\":\"white\",\"startlinecolor\":\"#2a3f5f\"},\"type\":\"carpet\"}],\"choropleth\":[{\"colorbar\":{\"outlinewidth\":0,\"ticks\":\"\"},\"type\":\"choropleth\"}],\"contour\":[{\"colorbar\":{\"outlinewidth\":0,\"ticks\":\"\"},\"colorscale\":[[0.0,\"#0d0887\"],[0.1111111111111111,\"#46039f\"],[0.2222222222222222,\"#7201a8\"],[0.3333333333333333,\"#9c179e\"],[0.4444444444444444,\"#bd3786\"],[0.5555555555555556,\"#d8576b\"],[0.6666666666666666,\"#ed7953\"],[0.7777777777777778,\"#fb9f3a\"],[0.8888888888888888,\"#fdca26\"],[1.0,\"#f0f921\"]],\"type\":\"contour\"}],\"contourcarpet\":[{\"colorbar\":{\"outlinewidth\":0,\"ticks\":\"\"},\"type\":\"contourcarpet\"}],\"heatmap\":[{\"colorbar\":{\"outlinewidth\":0,\"ticks\":\"\"},\"colorscale\":[[0.0,\"#0d0887\"],[0.1111111111111111,\"#46039f\"],[0.2222222222222222,\"#7201a8\"],[0.3333333333333333,\"#9c179e\"],[0.4444444444444444,\"#bd3786\"],[0.5555555555555556,\"#d8576b\"],[0.6666666666666666,\"#ed7953\"],[0.7777777777777778,\"#fb9f3a\"],[0.8888888888888888,\"#fdca26\"],[1.0,\"#f0f921\"]],\"type\":\"heatmap\"}],\"heatmapgl\":[{\"colorbar\":{\"outlinewidth\":0,\"ticks\":\"\"},\"colorscale\":[[0.0,\"#0d0887\"],[0.1111111111111111,\"#46039f\"],[0.2222222222222222,\"#7201a8\"],[0.3333333333333333,\"#9c179e\"],[0.4444444444444444,\"#bd3786\"],[0.5555555555555556,\"#d8576b\"],[0.6666666666666666,\"#ed7953\"],[0.7777777777777778,\"#fb9f3a\"],[0.8888888888888888,\"#fdca26\"],[1.0,\"#f0f921\"]],\"type\":\"heatmapgl\"}],\"histogram\":[{\"marker\":{\"pattern\":{\"fillmode\":\"overlay\",\"size\":10,\"solidity\":0.2}},\"type\":\"histogram\"}],\"histogram2d\":[{\"colorbar\":{\"outlinewidth\":0,\"ticks\":\"\"},\"colorscale\":[[0.0,\"#0d0887\"],[0.1111111111111111,\"#46039f\"],[0.2222222222222222,\"#7201a8\"],[0.3333333333333333,\"#9c179e\"],[0.4444444444444444,\"#bd3786\"],[0.5555555555555556,\"#d8576b\"],[0.6666666666666666,\"#ed7953\"],[0.7777777777777778,\"#fb9f3a\"],[0.8888888888888888,\"#fdca26\"],[1.0,\"#f0f921\"]],\"type\":\"histogram2d\"}],\"histogram2dcontour\":[{\"colorbar\":{\"outlinewidth\":0,\"ticks\":\"\"},\"colorscale\":[[0.0,\"#0d0887\"],[0.1111111111111111,\"#46039f\"],[0.2222222222222222,\"#7201a8\"],[0.3333333333333333,\"#9c179e\"],[0.4444444444444444,\"#bd3786\"],[0.5555555555555556,\"#d8576b\"],[0.6666666666666666,\"#ed7953\"],[0.7777777777777778,\"#fb9f3a\"],[0.8888888888888888,\"#fdca26\"],[1.0,\"#f0f921\"]],\"type\":\"histogram2dcontour\"}],\"mesh3d\":[{\"colorbar\":{\"outlinewidth\":0,\"ticks\":\"\"},\"type\":\"mesh3d\"}],\"parcoords\":[{\"line\":{\"colorbar\":{\"outlinewidth\":0,\"ticks\":\"\"}},\"type\":\"parcoords\"}],\"pie\":[{\"automargin\":true,\"type\":\"pie\"}],\"scatter\":[{\"marker\":{\"colorbar\":{\"outlinewidth\":0,\"ticks\":\"\"}},\"type\":\"scatter\"}],\"scatter3d\":[{\"line\":{\"colorbar\":{\"outlinewidth\":0,\"ticks\":\"\"}},\"marker\":{\"colorbar\":{\"outlinewidth\":0,\"ticks\":\"\"}},\"type\":\"scatter3d\"}],\"scattercarpet\":[{\"marker\":{\"colorbar\":{\"outlinewidth\":0,\"ticks\":\"\"}},\"type\":\"scattercarpet\"}],\"scattergeo\":[{\"marker\":{\"colorbar\":{\"outlinewidth\":0,\"ticks\":\"\"}},\"type\":\"scattergeo\"}],\"scattergl\":[{\"marker\":{\"colorbar\":{\"outlinewidth\":0,\"ticks\":\"\"}},\"type\":\"scattergl\"}],\"scattermapbox\":[{\"marker\":{\"colorbar\":{\"outlinewidth\":0,\"ticks\":\"\"}},\"type\":\"scattermapbox\"}],\"scatterpolar\":[{\"marker\":{\"colorbar\":{\"outlinewidth\":0,\"ticks\":\"\"}},\"type\":\"scatterpolar\"}],\"scatterpolargl\":[{\"marker\":{\"colorbar\":{\"outlinewidth\":0,\"ticks\":\"\"}},\"type\":\"scatterpolargl\"}],\"scatterternary\":[{\"marker\":{\"colorbar\":{\"outlinewidth\":0,\"ticks\":\"\"}},\"type\":\"scatterternary\"}],\"surface\":[{\"colorbar\":{\"outlinewidth\":0,\"ticks\":\"\"},\"colorscale\":[[0.0,\"#0d0887\"],[0.1111111111111111,\"#46039f\"],[0.2222222222222222,\"#7201a8\"],[0.3333333333333333,\"#9c179e\"],[0.4444444444444444,\"#bd3786\"],[0.5555555555555556,\"#d8576b\"],[0.6666666666666666,\"#ed7953\"],[0.7777777777777778,\"#fb9f3a\"],[0.8888888888888888,\"#fdca26\"],[1.0,\"#f0f921\"]],\"type\":\"surface\"}],\"table\":[{\"cells\":{\"fill\":{\"color\":\"#EBF0F8\"},\"line\":{\"color\":\"white\"}},\"header\":{\"fill\":{\"color\":\"#C8D4E3\"},\"line\":{\"color\":\"white\"}},\"type\":\"table\"}]},\"layout\":{\"annotationdefaults\":{\"arrowcolor\":\"#2a3f5f\",\"arrowhead\":0,\"arrowwidth\":1},\"autotypenumbers\":\"strict\",\"coloraxis\":{\"colorbar\":{\"outlinewidth\":0,\"ticks\":\"\"}},\"colorscale\":{\"diverging\":[[0,\"#8e0152\"],[0.1,\"#c51b7d\"],[0.2,\"#de77ae\"],[0.3,\"#f1b6da\"],[0.4,\"#fde0ef\"],[0.5,\"#f7f7f7\"],[0.6,\"#e6f5d0\"],[0.7,\"#b8e186\"],[0.8,\"#7fbc41\"],[0.9,\"#4d9221\"],[1,\"#276419\"]],\"sequential\":[[0.0,\"#0d0887\"],[0.1111111111111111,\"#46039f\"],[0.2222222222222222,\"#7201a8\"],[0.3333333333333333,\"#9c179e\"],[0.4444444444444444,\"#bd3786\"],[0.5555555555555556,\"#d8576b\"],[0.6666666666666666,\"#ed7953\"],[0.7777777777777778,\"#fb9f3a\"],[0.8888888888888888,\"#fdca26\"],[1.0,\"#f0f921\"]],\"sequentialminus\":[[0.0,\"#0d0887\"],[0.1111111111111111,\"#46039f\"],[0.2222222222222222,\"#7201a8\"],[0.3333333333333333,\"#9c179e\"],[0.4444444444444444,\"#bd3786\"],[0.5555555555555556,\"#d8576b\"],[0.6666666666666666,\"#ed7953\"],[0.7777777777777778,\"#fb9f3a\"],[0.8888888888888888,\"#fdca26\"],[1.0,\"#f0f921\"]]},\"colorway\":[\"#636efa\",\"#EF553B\",\"#00cc96\",\"#ab63fa\",\"#FFA15A\",\"#19d3f3\",\"#FF6692\",\"#B6E880\",\"#FF97FF\",\"#FECB52\"],\"font\":{\"color\":\"#2a3f5f\"},\"geo\":{\"bgcolor\":\"white\",\"lakecolor\":\"white\",\"landcolor\":\"#E5ECF6\",\"showlakes\":true,\"showland\":true,\"subunitcolor\":\"white\"},\"hoverlabel\":{\"align\":\"left\"},\"hovermode\":\"closest\",\"mapbox\":{\"style\":\"light\"},\"paper_bgcolor\":\"white\",\"plot_bgcolor\":\"#E5ECF6\",\"polar\":{\"angularaxis\":{\"gridcolor\":\"white\",\"linecolor\":\"white\",\"ticks\":\"\"},\"bgcolor\":\"#E5ECF6\",\"radialaxis\":{\"gridcolor\":\"white\",\"linecolor\":\"white\",\"ticks\":\"\"}},\"scene\":{\"xaxis\":{\"backgroundcolor\":\"#E5ECF6\",\"gridcolor\":\"white\",\"gridwidth\":2,\"linecolor\":\"white\",\"showbackground\":true,\"ticks\":\"\",\"zerolinecolor\":\"white\"},\"yaxis\":{\"backgroundcolor\":\"#E5ECF6\",\"gridcolor\":\"white\",\"gridwidth\":2,\"linecolor\":\"white\",\"showbackground\":true,\"ticks\":\"\",\"zerolinecolor\":\"white\"},\"zaxis\":{\"backgroundcolor\":\"#E5ECF6\",\"gridcolor\":\"white\",\"gridwidth\":2,\"linecolor\":\"white\",\"showbackground\":true,\"ticks\":\"\",\"zerolinecolor\":\"white\"}},\"shapedefaults\":{\"line\":{\"color\":\"#2a3f5f\"}},\"ternary\":{\"aaxis\":{\"gridcolor\":\"white\",\"linecolor\":\"white\",\"ticks\":\"\"},\"baxis\":{\"gridcolor\":\"white\",\"linecolor\":\"white\",\"ticks\":\"\"},\"bgcolor\":\"#E5ECF6\",\"caxis\":{\"gridcolor\":\"white\",\"linecolor\":\"white\",\"ticks\":\"\"}},\"title\":{\"x\":0.05},\"xaxis\":{\"automargin\":true,\"gridcolor\":\"white\",\"linecolor\":\"white\",\"ticks\":\"\",\"title\":{\"standoff\":15},\"zerolinecolor\":\"white\",\"zerolinewidth\":2},\"yaxis\":{\"automargin\":true,\"gridcolor\":\"white\",\"linecolor\":\"white\",\"ticks\":\"\",\"title\":{\"standoff\":15},\"zerolinecolor\":\"white\",\"zerolinewidth\":2}}},\"width\":1000},                        {\"responsive\": true}                    ).then(function(){\n",
       "                            \n",
       "var gd = document.getElementById('20382d66-44b5-4146-9e00-2f630355436f');\n",
       "var x = new MutationObserver(function (mutations, observer) {{\n",
       "        var display = window.getComputedStyle(gd).display;\n",
       "        if (!display || display === 'none') {{\n",
       "            console.log([gd, 'removed!']);\n",
       "            Plotly.purge(gd);\n",
       "            observer.disconnect();\n",
       "        }}\n",
       "}});\n",
       "\n",
       "// Listen for the removal of the full notebook cells\n",
       "var notebookContainer = gd.closest('#notebook-container');\n",
       "if (notebookContainer) {{\n",
       "    x.observe(notebookContainer, {childList: true});\n",
       "}}\n",
       "\n",
       "// Listen for the clearing of the current output cell\n",
       "var outputEl = gd.closest('.output');\n",
       "if (outputEl) {{\n",
       "    x.observe(outputEl, {childList: true});\n",
       "}}\n",
       "\n",
       "                        })                };                });            </script>        </div>"
      ]
     },
     "metadata": {},
     "output_type": "display_data"
    }
   ],
   "source": [
    "k = 3 # pick the index in graphCovers generated above\n",
    "graphCovers[k].plot(coord)"
   ]
  },
  {
   "cell_type": "markdown",
   "id": "796a6207-fc29-46c4-a41f-14080e02168e",
   "metadata": {},
   "source": [
    "## Make a dataset"
   ]
  },
  {
   "cell_type": "code",
   "execution_count": 12,
   "id": "b26d0067-aee4-4379-8628-df4d53c6df1c",
   "metadata": {},
   "outputs": [],
   "source": [
    "import torch\n",
    "from torch_geometric.data import Data"
   ]
  },
  {
   "cell_type": "code",
   "execution_count": 13,
   "id": "06e4c639-2ae8-418c-884b-4408afaf5141",
   "metadata": {},
   "outputs": [],
   "source": [
    "# First get them as a list of torch_geometric Data object, with the WL colouring\n",
    "data_list = []\n",
    "for cover in graphCovers:\n",
    "    edge_index = torch.tensor(cover.edge_index, dtype=torch.long).t().contiguous()\n",
    "    x = torch.tensor(cover.get_colour_signal())\n",
    "    data_list += [Data(x=x, edge_index=edge_index)]"
   ]
  },
  {
   "cell_type": "code",
   "execution_count": 14,
   "id": "0df36124-d36c-4dee-affb-f18b1fe8e329",
   "metadata": {},
   "outputs": [
    {
     "data": {
      "text/plain": [
       "Data(x=[36, 9], edge_index=[2, 80])"
      ]
     },
     "execution_count": 14,
     "metadata": {},
     "output_type": "execute_result"
    }
   ],
   "source": [
    "data_list[0]"
   ]
  },
  {
   "cell_type": "code",
   "execution_count": 15,
   "id": "91b2079f-2fde-4daf-a87b-b5cd1384677c",
   "metadata": {},
   "outputs": [],
   "source": [
    "#make three classes:\n",
    "for i, data in enumerate(data_list):\n",
    "    if i%3==0:\n",
    "        data.y = torch.tensor([0], dtype=torch.long)\n",
    "    if i%3==1:\n",
    "        data.y = torch.tensor([1], dtype=torch.long)\n",
    "    if i%3==2:\n",
    "        data.y = torch.tensor([2], dtype=torch.long)"
   ]
  },
  {
   "cell_type": "code",
   "execution_count": 16,
   "id": "632fb8d1-1240-451f-9606-8e94c5602faa",
   "metadata": {},
   "outputs": [
    {
     "data": {
      "text/plain": [
       "(tensor([0]), tensor([1]), tensor([2]))"
      ]
     },
     "execution_count": 16,
     "metadata": {},
     "output_type": "execute_result"
    }
   ],
   "source": [
    "# lets try out our method only on 3 non-isomorphic graphs (that are deg 5)...\n",
    "small_list = [data_list[0], data_list[1], data_list[2]]\n",
    "small_list[0].y, small_list[1].y, small_list[2].y"
   ]
  },
  {
   "cell_type": "markdown",
   "id": "8d2459da-8712-4c7c-884e-f50c97f26634",
   "metadata": {},
   "source": [
    "# GNNs experiments"
   ]
  },
  {
   "cell_type": "code",
   "execution_count": 17,
   "id": "52e5af4d-1a7b-415b-8eac-226230db48f7",
   "metadata": {},
   "outputs": [],
   "source": [
    "# now lets get learning!!!\n",
    "import torch.nn.functional as F\n",
    "from torch_geometric.nn import GCNConv, SAGEConv, GINConv, GATConv, ChebConv\n",
    "from torch_geometric.nn import Linear as Linear_pyg\n",
    "\n",
    "class SIMPLE(torch.nn.Module):\n",
    "    def __init__(self, in_dim=16, hidden_dim=16, num_classes=97):\n",
    "        super().__init__()\n",
    "        self.conv1 = None\n",
    "        self.conv2 = None\n",
    "        self.fc = torch.nn.Linear(2*hidden_dim, num_classes)\n",
    "\n",
    "    def forward(self, data):\n",
    "        x, edge_index = data.x, data.edge_index\n",
    "\n",
    "        x = self.conv1(x, edge_index)\n",
    "        x = F.relu(x)\n",
    "        \n",
    "        x = self.conv2(x, edge_index)\n",
    "        x = F.relu(x)\n",
    "        \n",
    "        emb1 = x.mean(dim=0, keepdim=True)\n",
    "        emb2 = torch.max(x, dim=0, keepdim=True).values\n",
    "        emb = torch.cat((emb1, emb2), dim=1)\n",
    "        x = self.fc(emb)\n",
    "\n",
    "        return F.softmax(x, dim=1), emb\n",
    "\n",
    "class GCN(SIMPLE):\n",
    "    def __init__(self, in_dim=16, hidden_dim=16, num_classes=97):\n",
    "        super().__init__(in_dim, hidden_dim, num_classes)\n",
    "        self.conv1 = GCNConv(in_dim, hidden_dim)\n",
    "        self.conv2 = GCNConv(hidden_dim, hidden_dim)\n",
    "    \n",
    "class SAGE(SIMPLE):\n",
    "    def __init__(self, in_dim=16, hidden_dim=16, num_classes=97):\n",
    "        super().__init__(in_dim, hidden_dim, num_classes)\n",
    "        self.conv1 = SAGEConv(in_dim, hidden_dim)\n",
    "        self.conv2 = SAGEConv(hidden_dim, hidden_dim)\n",
    "\n",
    "class GAT(SIMPLE):\n",
    "    def __init__(self, in_dim=16, hidden_dim=16, num_classes=97):\n",
    "        super().__init__(in_dim, hidden_dim, num_classes)\n",
    "        self.conv1 = GATConv(in_dim, hidden_dim)\n",
    "        self.conv2 = GATConv(hidden_dim, hidden_dim)\n",
    "\n",
    "class GIN(SIMPLE):\n",
    "    def __init__(self, in_dim=16, hidden_dim=16, num_classes=97):\n",
    "        super().__init__(in_dim, hidden_dim, num_classes)\n",
    "        self.conv1 = GINConv(nn=Linear_pyg(in_dim, hidden_dim))\n",
    "        self.conv2 = GINConv(nn=Linear_pyg(hidden_dim, hidden_dim))\n",
    "        \n",
    "class CHEB(SIMPLE):\n",
    "    def __init__(self, in_dim=16, hidden_dim=16, num_classes=97):\n",
    "        super().__init__(in_dim, hidden_dim, num_classes)\n",
    "        self.conv1 = ChebConv(in_dim, hidden_dim, K=1)\n",
    "        self.conv2 = ChebConv(hidden_dim, hidden_dim, K=1)"
   ]
  },
  {
   "cell_type": "code",
   "execution_count": 18,
   "id": "a2e82fcd-3431-4e6c-a6ae-be45ac5175f2",
   "metadata": {},
   "outputs": [],
   "source": [
    "def train_model(model, data_list):\n",
    "    cross_entropy = torch.nn.CrossEntropyLoss()\n",
    "    optimizer = torch.optim.Adam(model.parameters(), lr=0.01, weight_decay=5e-4)\n",
    "\n",
    "    model.train()\n",
    "    for epoch in range(400):\n",
    "        for data in data_list:\n",
    "            optimizer.zero_grad()\n",
    "            out, emb = model(data)\n",
    "            loss = cross_entropy(out, data.y)\n",
    "            loss.backward()\n",
    "            optimizer.step()\n",
    "        if epoch%150==0:\n",
    "            print(\"loss: \", loss)\n",
    "            print(out.sum(), emb.sum())\n",
    "\n",
    "\n",
    "def eval_model(model, data_list):\n",
    "    model.eval()\n",
    "    preds = [model(data)[0].argmax(dim=1) for data in data_list]\n",
    "    correct = sum([1 if preds[i]==data_list[i].y else 0 for i in range(len(data_list))])\n",
    "    acc = int(correct) / len(data_list)\n",
    "    print(f'Train accuracy: {acc:.4f}')\n",
    "\n",
    "    bool = torch.equal(model(data_list[0])[1].repeat((len(data_list), 1)), torch.stack([model(data_list[i])[1][0] for i in range(len(data_list))] ))\n",
    "    print(\"All embeddings are all equal: \", bool)\n",
    "    if bool:\n",
    "        print(\"All predictions are: \", model(data_list[0])[0].argmax(dim=1))\n"
   ]
  },
  {
   "cell_type": "code",
   "execution_count": 19,
   "id": "a3b1049a-a847-4dd6-9ba7-aec5e5145bb9",
   "metadata": {},
   "outputs": [],
   "source": [
    "def whole_analysis(data_list, in_dim=16, hidden_dim=16, num_classes=97):\n",
    "    print(\"GCN: \")\n",
    "    print(\"\")\n",
    "    model = GCN(in_dim, hidden_dim, num_classes)\n",
    "    train_model(model, data_list)\n",
    "    eval_model(model, data_list)\n",
    "\n",
    "    print(\"\")\n",
    "    print(\"GAT\")\n",
    "    print(\"\")\n",
    "    model = GAT(in_dim, hidden_dim, num_classes)\n",
    "    train_model(model, data_list)\n",
    "    eval_model(model, data_list)\n",
    "\n",
    "    print(\"\")\n",
    "    print(\"GIN: \")\n",
    "    print(\"\")\n",
    "    model = GIN(in_dim, hidden_dim, num_classes)\n",
    "    train_model(model, data_list)\n",
    "    eval_model(model, data_list)\n",
    "\n",
    "    print(\"\")\n",
    "    print(\"SAGE: \")\n",
    "    print(\"\")\n",
    "    model = SAGE(in_dim, hidden_dim, num_classes)\n",
    "    train_model(model, data_list)\n",
    "    eval_model(model, data_list)\n",
    "    \n",
    "    print(\"\")\n",
    "    print(\"Cheb: \")\n",
    "    print(\"\")\n",
    "    model = CHEB(in_dim, hidden_dim, num_classes)\n",
    "    train_model(model, data_list)\n",
    "    eval_model(model, data_list)\n"
   ]
  },
  {
   "cell_type": "markdown",
   "id": "c0492433-5429-4efe-b10c-3a28a5775e9f",
   "metadata": {},
   "source": [
    "## constant signal"
   ]
  },
  {
   "cell_type": "code",
   "execution_count": 20,
   "id": "53fd81b5-c5db-4cfe-8b81-3dfb62d4219f",
   "metadata": {},
   "outputs": [
    {
     "name": "stdout",
     "output_type": "stream",
     "text": [
      "signal dimension:  torch.Size([36, 1])\n",
      "GCN: \n",
      "\n",
      "loss:  tensor(1.2015, grad_fn=<NllLossBackward>)\n",
      "tensor(1., grad_fn=<SumBackward0>) tensor(10.0006, grad_fn=<SumBackward0>)\n",
      "loss:  tensor(1.0956, grad_fn=<NllLossBackward>)\n",
      "tensor(1., grad_fn=<SumBackward0>) tensor(0.0315, grad_fn=<SumBackward0>)\n",
      "loss:  tensor(1.0977, grad_fn=<NllLossBackward>)\n",
      "tensor(1., grad_fn=<SumBackward0>) tensor(0.0002, grad_fn=<SumBackward0>)\n",
      "Train accuracy: 0.3333\n",
      "All embeddings are all equal:  True\n",
      "All predictions are:  tensor([2])\n",
      "\n",
      "GAT\n",
      "\n",
      "loss:  tensor(1.1961, grad_fn=<NllLossBackward>)\n",
      "tensor(1.0000, grad_fn=<SumBackward0>) tensor(11.2369, grad_fn=<SumBackward0>)\n",
      "loss:  tensor(1.0997, grad_fn=<NllLossBackward>)\n",
      "tensor(1., grad_fn=<SumBackward0>) tensor(0.0006, grad_fn=<SumBackward0>)\n",
      "loss:  tensor(1.0991, grad_fn=<NllLossBackward>)\n",
      "tensor(1., grad_fn=<SumBackward0>) tensor(4.4143e-06, grad_fn=<SumBackward0>)\n",
      "Train accuracy: 0.3333\n",
      "All embeddings are all equal:  True\n",
      "All predictions are:  tensor([0])\n",
      "\n",
      "GIN: \n",
      "\n",
      "loss:  tensor(1.5514, grad_fn=<NllLossBackward>)\n",
      "tensor(1.0000, grad_fn=<SumBackward0>) tensor(303.2832, grad_fn=<SumBackward0>)\n",
      "loss:  tensor(1.5514, grad_fn=<NllLossBackward>)\n",
      "tensor(1., grad_fn=<SumBackward0>) tensor(167.4480, grad_fn=<SumBackward0>)\n",
      "loss:  tensor(1.5514, grad_fn=<NllLossBackward>)\n",
      "tensor(1., grad_fn=<SumBackward0>) tensor(68.6658, grad_fn=<SumBackward0>)\n",
      "Train accuracy: 0.3333\n",
      "All embeddings are all equal:  True\n",
      "All predictions are:  tensor([2])\n",
      "\n",
      "SAGE: \n",
      "\n",
      "loss:  tensor(1.5244, grad_fn=<NllLossBackward>)\n",
      "tensor(1., grad_fn=<SumBackward0>) tensor(71.5166, grad_fn=<SumBackward0>)\n",
      "loss:  tensor(1.1058, grad_fn=<NllLossBackward>)\n",
      "tensor(1., grad_fn=<SumBackward0>) tensor(0.8328, grad_fn=<SumBackward0>)\n",
      "loss:  tensor(1.1033, grad_fn=<NllLossBackward>)\n",
      "tensor(1., grad_fn=<SumBackward0>) tensor(0.2127, grad_fn=<SumBackward0>)\n",
      "Train accuracy: 0.3333\n",
      "All embeddings are all equal:  True\n",
      "All predictions are:  tensor([0])\n",
      "\n",
      "Cheb: \n",
      "\n",
      "loss:  tensor(1.1921, grad_fn=<NllLossBackward>)\n",
      "tensor(1.0000, grad_fn=<SumBackward0>) tensor(8.3358, grad_fn=<SumBackward0>)\n",
      "loss:  tensor(1.1038, grad_fn=<NllLossBackward>)\n",
      "tensor(1., grad_fn=<SumBackward0>) tensor(7.7070e-07, grad_fn=<SumBackward0>)\n",
      "loss:  tensor(1.1005, grad_fn=<NllLossBackward>)\n",
      "tensor(1., grad_fn=<SumBackward0>) tensor(0., grad_fn=<SumBackward0>)\n",
      "Train accuracy: 0.3333\n",
      "All embeddings are all equal:  True\n",
      "All predictions are:  tensor([0])\n"
     ]
    }
   ],
   "source": [
    "for data in small_list:\n",
    "    data.x = torch.ones((data.x.shape[0], 1))\n",
    "print(\"signal dimension: \", data.x.shape)\n",
    "whole_analysis(small_list, 1, 100, num_classes=3)"
   ]
  },
  {
   "cell_type": "markdown",
   "id": "392410bc-1558-4d03-bd6d-656089b51e62",
   "metadata": {
    "tags": []
   },
   "source": [
    "## Degree signal"
   ]
  },
  {
   "cell_type": "code",
   "execution_count": 17,
   "id": "423cc93d-2952-43de-8563-8f2b6dda90e6",
   "metadata": {},
   "outputs": [
    {
     "name": "stdout",
     "output_type": "stream",
     "text": [
      "signal dimension:  torch.Size([45, 1])\n",
      "GCN: \n",
      "\n",
      "loss:  tensor(1.2538, grad_fn=<NllLossBackward>)\n",
      "tensor(1., grad_fn=<SumBackward0>) tensor(20.8969, grad_fn=<SumBackward0>)\n",
      "loss:  tensor(1.0994, grad_fn=<NllLossBackward>)\n",
      "tensor(1., grad_fn=<SumBackward0>) tensor(0.0529, grad_fn=<SumBackward0>)\n",
      "loss:  tensor(1.0990, grad_fn=<NllLossBackward>)\n",
      "tensor(1., grad_fn=<SumBackward0>) tensor(0.0135, grad_fn=<SumBackward0>)\n",
      "Train accuracy: 0.3333\n",
      "All embeddings are all equal:  True\n",
      "All predictions are:  tensor([1])\n",
      "\n",
      "GAT\n",
      "\n",
      "loss:  tensor(1.2776, grad_fn=<NllLossBackward>)\n",
      "tensor(1., grad_fn=<SumBackward0>) tensor(21.9648, grad_fn=<SumBackward0>)\n",
      "loss:  tensor(1.0988, grad_fn=<NllLossBackward>)\n",
      "tensor(1.0000, grad_fn=<SumBackward0>) tensor(0.0516, grad_fn=<SumBackward0>)\n",
      "loss:  tensor(1.0988, grad_fn=<NllLossBackward>)\n",
      "tensor(1., grad_fn=<SumBackward0>) tensor(0.0287, grad_fn=<SumBackward0>)\n",
      "Train accuracy: 0.3333\n",
      "All embeddings are all equal:  True\n",
      "All predictions are:  tensor([1])\n",
      "\n",
      "GIN: \n",
      "\n",
      "loss:  tensor(1.5514, grad_fn=<NllLossBackward>)\n",
      "tensor(1., grad_fn=<SumBackward0>) tensor(1250.7643, grad_fn=<SumBackward0>)\n",
      "loss:  tensor(1.5514, grad_fn=<NllLossBackward>)\n",
      "tensor(1., grad_fn=<SumBackward0>) tensor(1344.4761, grad_fn=<SumBackward0>)\n",
      "loss:  tensor(1.5514, grad_fn=<NllLossBackward>)\n",
      "tensor(1., grad_fn=<SumBackward0>) tensor(461.6716, grad_fn=<SumBackward0>)\n",
      "Train accuracy: 0.3333\n",
      "All embeddings are all equal:  True\n",
      "All predictions are:  tensor([0])\n",
      "\n",
      "SAGE: \n",
      "\n",
      "loss:  tensor(1.5510, grad_fn=<NllLossBackward>)\n",
      "tensor(1.0000, grad_fn=<SumBackward0>) tensor(157.8397, grad_fn=<SumBackward0>)\n",
      "loss:  tensor(1.0961, grad_fn=<NllLossBackward>)\n",
      "tensor(1., grad_fn=<SumBackward0>) tensor(0.0564, grad_fn=<SumBackward0>)\n",
      "loss:  tensor(1.0982, grad_fn=<NllLossBackward>)\n",
      "tensor(1.0000, grad_fn=<SumBackward0>) tensor(0.0130, grad_fn=<SumBackward0>)\n",
      "Train accuracy: 0.3333\n",
      "All embeddings are all equal:  True\n",
      "All predictions are:  tensor([1])\n",
      "\n",
      "Cheb: \n",
      "\n",
      "loss:  tensor(1.2884, grad_fn=<NllLossBackward>)\n",
      "tensor(1., grad_fn=<SumBackward0>) tensor(21.8077, grad_fn=<SumBackward0>)\n",
      "loss:  tensor(1.1021, grad_fn=<NllLossBackward>)\n",
      "tensor(1., grad_fn=<SumBackward0>) tensor(0.0228, grad_fn=<SumBackward0>)\n",
      "loss:  tensor(1.0999, grad_fn=<NllLossBackward>)\n",
      "tensor(1., grad_fn=<SumBackward0>) tensor(0., grad_fn=<SumBackward0>)\n",
      "Train accuracy: 0.3333\n",
      "All embeddings are all equal:  True\n",
      "All predictions are:  tensor([0])\n"
     ]
    }
   ],
   "source": [
    "from torch_geometric.utils import degree\n",
    "for data in data_list:\n",
    "    data.x = degree(data.edge_index[0]).unsqueeze(1)\n",
    "print(\"signal dimension: \", data.x.shape)\n",
    "whole_analysis(small_list, in_dim=1, hidden_dim=100, num_classes=3)"
   ]
  },
  {
   "cell_type": "markdown",
   "id": "22eedc0d-b2d1-472f-a977-69ea9caf7742",
   "metadata": {},
   "source": [
    "## Random normal signal"
   ]
  },
  {
   "cell_type": "code",
   "execution_count": 12,
   "id": "7c49057e-575d-4adc-9993-74635d66e8ee",
   "metadata": {},
   "outputs": [
    {
     "name": "stdout",
     "output_type": "stream",
     "text": [
      "signal dimension:  torch.Size([45, 1])\n",
      "GCN: \n",
      "\n",
      "loss:  tensor(1.2288, grad_fn=<NllLossBackward>)\n",
      "tensor(1., grad_fn=<SumBackward0>) tensor(13.3182, grad_fn=<SumBackward0>)\n",
      "loss:  tensor(0.5529, grad_fn=<NllLossBackward>)\n",
      "tensor(1.0000, grad_fn=<SumBackward0>) tensor(223.7640, grad_fn=<SumBackward0>)\n",
      "loss:  tensor(0.5525, grad_fn=<NllLossBackward>)\n",
      "tensor(1.0000, grad_fn=<SumBackward0>) tensor(197.5469, grad_fn=<SumBackward0>)\n",
      "Train accuracy: 1.0000\n",
      "All embeddings are all equal:  False\n",
      "\n",
      "GAT\n",
      "\n",
      "loss:  tensor(1.2368, grad_fn=<NllLossBackward>)\n",
      "tensor(1., grad_fn=<SumBackward0>) tensor(13.2937, grad_fn=<SumBackward0>)\n",
      "loss:  tensor(0.5522, grad_fn=<NllLossBackward>)\n",
      "tensor(1., grad_fn=<SumBackward0>) tensor(186.8474, grad_fn=<SumBackward0>)\n",
      "loss:  tensor(0.5520, grad_fn=<NllLossBackward>)\n",
      "tensor(1., grad_fn=<SumBackward0>) tensor(174.7480, grad_fn=<SumBackward0>)\n",
      "Train accuracy: 1.0000\n",
      "All embeddings are all equal:  False\n",
      "\n",
      "GIN: \n",
      "\n",
      "loss:  tensor(1.5514, grad_fn=<NllLossBackward>)\n",
      "tensor(1., grad_fn=<SumBackward0>) tensor(411.8894, grad_fn=<SumBackward0>)\n",
      "loss:  tensor(1.5514, grad_fn=<NllLossBackward>)\n",
      "tensor(1.0000, grad_fn=<SumBackward0>) tensor(85.6422, grad_fn=<SumBackward0>)\n",
      "loss:  tensor(0.5520, grad_fn=<NllLossBackward>)\n",
      "tensor(1.0000, grad_fn=<SumBackward0>) tensor(135.7546, grad_fn=<SumBackward0>)\n",
      "Train accuracy: 1.0000\n",
      "All embeddings are all equal:  False\n",
      "\n",
      "SAGE: \n",
      "\n",
      "loss:  tensor(1.5514, grad_fn=<NllLossBackward>)\n",
      "tensor(1., grad_fn=<SumBackward0>) tensor(162.3507, grad_fn=<SumBackward0>)\n",
      "loss:  tensor(0.5526, grad_fn=<NllLossBackward>)\n",
      "tensor(1., grad_fn=<SumBackward0>) tensor(83.9459, grad_fn=<SumBackward0>)\n",
      "loss:  tensor(0.5522, grad_fn=<NllLossBackward>)\n",
      "tensor(1., grad_fn=<SumBackward0>) tensor(74.4326, grad_fn=<SumBackward0>)\n",
      "Train accuracy: 1.0000\n",
      "All embeddings are all equal:  False\n",
      "\n",
      "Cheb: \n",
      "\n",
      "loss:  tensor(1.2841, grad_fn=<NllLossBackward>)\n",
      "tensor(1., grad_fn=<SumBackward0>) tensor(21.7732, grad_fn=<SumBackward0>)\n",
      "loss:  tensor(0.5597, grad_fn=<NllLossBackward>)\n",
      "tensor(1., grad_fn=<SumBackward0>) tensor(383.9077, grad_fn=<SumBackward0>)\n",
      "loss:  tensor(0.5560, grad_fn=<NllLossBackward>)\n",
      "tensor(1., grad_fn=<SumBackward0>) tensor(360.8398, grad_fn=<SumBackward0>)\n",
      "Train accuracy: 1.0000\n",
      "All embeddings are all equal:  False\n"
     ]
    }
   ],
   "source": [
    "for data in small_list:\n",
    "    data.x = torch.normal(mean = 0, std = torch.ones(45, 1))\n",
    "print(\"signal dimension: \", data.x.shape)\n",
    "whole_analysis(small_list, in_dim=1, hidden_dim=100, num_classes=3)"
   ]
  },
  {
   "cell_type": "markdown",
   "id": "4ea73e3d-8713-4436-8be1-43f2ba3a2065",
   "metadata": {},
   "source": [
    "## Random uniform"
   ]
  },
  {
   "cell_type": "code",
   "execution_count": null,
   "id": "98680607-e4d2-43e6-9c2c-875af2fd1d93",
   "metadata": {},
   "outputs": [
    {
     "name": "stdout",
     "output_type": "stream",
     "text": [
      "signal dimension:  torch.Size([45, 1])\n",
      "GCN: \n",
      "\n",
      "loss:  tensor(1.1609, grad_fn=<NllLossBackward>)\n",
      "tensor(1., grad_fn=<SumBackward0>) tensor(5.6607, grad_fn=<SumBackward0>)\n",
      "loss:  tensor(0.8342, grad_fn=<NllLossBackward>)\n",
      "tensor(1., grad_fn=<SumBackward0>) tensor(126.7008, grad_fn=<SumBackward0>)\n",
      "loss:  tensor(0.8101, grad_fn=<NllLossBackward>)\n",
      "tensor(1.0000, grad_fn=<SumBackward0>) tensor(260.4312, grad_fn=<SumBackward0>)\n",
      "Train accuracy: 1.0000\n",
      "All embeddings are all equal:  False\n",
      "\n",
      "GAT\n",
      "\n",
      "loss:  tensor(1.1509, grad_fn=<NllLossBackward>)\n",
      "tensor(1., grad_fn=<SumBackward0>) tensor(6.6010, grad_fn=<SumBackward0>)\n",
      "loss:  tensor(0.6523, grad_fn=<NllLossBackward>)\n",
      "tensor(1., grad_fn=<SumBackward0>) tensor(45.0819, grad_fn=<SumBackward0>)\n",
      "loss:  tensor(0.5586, grad_fn=<NllLossBackward>)\n",
      "tensor(1., grad_fn=<SumBackward0>) tensor(67.1575, grad_fn=<SumBackward0>)\n",
      "Train accuracy: 1.0000\n",
      "All embeddings are all equal:  False\n",
      "\n",
      "GIN: \n",
      "\n",
      "loss:  tensor(1.5514, grad_fn=<NllLossBackward>)\n",
      "tensor(1., grad_fn=<SumBackward0>) tensor(268.2901, grad_fn=<SumBackward0>)\n",
      "loss:  tensor(1.5514, grad_fn=<NllLossBackward>)\n",
      "tensor(1.0000, grad_fn=<SumBackward0>) tensor(120.3142, grad_fn=<SumBackward0>)\n",
      "loss:  tensor(1.0999, grad_fn=<NllLossBackward>)\n",
      "tensor(1., grad_fn=<SumBackward0>) tensor(0., grad_fn=<SumBackward0>)\n",
      "Train accuracy: 0.3333\n",
      "All embeddings are all equal:  True\n",
      "All predictions are:  tensor([0])\n",
      "\n",
      "SAGE: \n",
      "\n",
      "loss:  tensor(1.5496, grad_fn=<NllLossBackward>)\n",
      "tensor(1., grad_fn=<SumBackward0>) tensor(105.8192, grad_fn=<SumBackward0>)\n",
      "loss:  tensor(0.5536, grad_fn=<NllLossBackward>)\n",
      "tensor(1., grad_fn=<SumBackward0>) tensor(49.1045, grad_fn=<SumBackward0>)\n",
      "loss:  tensor(0.5532, grad_fn=<NllLossBackward>)\n",
      "tensor(1.0000, grad_fn=<SumBackward0>) tensor(49.9425, grad_fn=<SumBackward0>)\n",
      "Train accuracy: 1.0000\n",
      "All embeddings are all equal:  False\n",
      "\n",
      "Cheb: \n",
      "\n",
      "loss:  tensor(1.1576, grad_fn=<NllLossBackward>)\n",
      "tensor(1., grad_fn=<SumBackward0>) tensor(5.5929, grad_fn=<SumBackward0>)\n",
      "loss:  tensor(0.8383, grad_fn=<NllLossBackward>)\n",
      "tensor(1., grad_fn=<SumBackward0>) tensor(30.6933, grad_fn=<SumBackward0>)\n",
      "loss:  tensor(0.5775, grad_fn=<NllLossBackward>)\n",
      "tensor(1., grad_fn=<SumBackward0>) tensor(91.6893, grad_fn=<SumBackward0>)\n",
      "Train accuracy: 1.0000\n",
      "All embeddings are all equal:  False\n"
     ]
    }
   ],
   "source": [
    "for data in small_list:\n",
    "    data.x = torch.rand(size=data.x.shape)\n",
    "print(\"signal dimension: \", data.x.shape)\n",
    "whole_analysis(small_list, in_dim=1, hidden_dim=100, num_classes=3)"
   ]
  },
  {
   "cell_type": "markdown",
   "id": "8630d246-148b-4e2b-8484-4f6dc22bfb93",
   "metadata": {},
   "source": [
    "## Unique Identifiers:\n",
    "each of the node of a graph gets a unique identifier."
   ]
  },
  {
   "cell_type": "code",
   "execution_count": null,
   "id": "457b7acc-024a-4ffa-87c8-07d5cc9b7a55",
   "metadata": {},
   "outputs": [
    {
     "name": "stdout",
     "output_type": "stream",
     "text": [
      "signal dimension:  torch.Size([45, 1])\n",
      "GCN: \n",
      "\n",
      "loss:  tensor(1.5514, grad_fn=<NllLossBackward>)\n",
      "tensor(1., grad_fn=<SumBackward0>) tensor(1807.9285, grad_fn=<SumBackward0>)\n",
      "loss:  tensor(1.5514, grad_fn=<NllLossBackward>)\n",
      "tensor(1., grad_fn=<SumBackward0>) tensor(325.2245, grad_fn=<SumBackward0>)\n",
      "loss:  tensor(1.5514, grad_fn=<NllLossBackward>)\n",
      "tensor(1.0000, grad_fn=<SumBackward0>) tensor(165.9739, grad_fn=<SumBackward0>)\n",
      "Train accuracy: 0.3333\n",
      "All embeddings are all equal:  False\n",
      "\n",
      "GAT\n",
      "\n",
      "loss:  tensor(1.5514, grad_fn=<NllLossBackward>)\n",
      "tensor(1.0000, grad_fn=<SumBackward0>) tensor(1825.8007, grad_fn=<SumBackward0>)\n",
      "loss:  tensor(1.5514, grad_fn=<NllLossBackward>)\n",
      "tensor(1., grad_fn=<SumBackward0>) tensor(476.0897, grad_fn=<SumBackward0>)\n",
      "loss:  tensor(1.5514, grad_fn=<NllLossBackward>)\n",
      "tensor(1., grad_fn=<SumBackward0>) tensor(124.4833, grad_fn=<SumBackward0>)\n",
      "Train accuracy: 0.3333\n",
      "All embeddings are all equal:  False\n",
      "\n",
      "GIN: \n",
      "\n",
      "loss:  tensor(0.5514, grad_fn=<NllLossBackward>)\n",
      "tensor(1., grad_fn=<SumBackward0>) tensor(34754.8867, grad_fn=<SumBackward0>)\n",
      "loss:  tensor(0.5514, grad_fn=<NllLossBackward>)\n",
      "tensor(1., grad_fn=<SumBackward0>) tensor(112023.1172, grad_fn=<SumBackward0>)\n",
      "loss:  tensor(0.5514, grad_fn=<NllLossBackward>)\n",
      "tensor(1., grad_fn=<SumBackward0>) tensor(68861.9453, grad_fn=<SumBackward0>)\n",
      "Train accuracy: 0.3333\n",
      "All embeddings are all equal:  False\n",
      "\n",
      "SAGE: \n",
      "\n",
      "loss:  tensor(1.5514, grad_fn=<NllLossBackward>)\n",
      "tensor(1., grad_fn=<SumBackward0>) tensor(6358.6138, grad_fn=<SumBackward0>)\n",
      "loss:  tensor(1.5514, grad_fn=<NllLossBackward>)\n",
      "tensor(1., grad_fn=<SumBackward0>) tensor(310.0218, grad_fn=<SumBackward0>)\n",
      "loss:  tensor(1.5514, grad_fn=<NllLossBackward>)\n",
      "tensor(1., grad_fn=<SumBackward0>) tensor(469.7827, grad_fn=<SumBackward0>)\n",
      "Train accuracy: 0.3333\n",
      "All embeddings are all equal:  False\n",
      "\n",
      "Cheb: \n",
      "\n",
      "loss:  tensor(1.5514, grad_fn=<NllLossBackward>)\n",
      "tensor(1., grad_fn=<SumBackward0>) tensor(1503.4678, grad_fn=<SumBackward0>)\n",
      "loss:  tensor(1.5514, grad_fn=<NllLossBackward>)\n",
      "tensor(1., grad_fn=<SumBackward0>) tensor(2908.6179, grad_fn=<SumBackward0>)\n",
      "loss:  tensor(1.5514, grad_fn=<NllLossBackward>)\n",
      "tensor(1., grad_fn=<SumBackward0>) tensor(2152.5918, grad_fn=<SumBackward0>)\n",
      "Train accuracy: 0.3333\n",
      "All embeddings are all equal:  True\n",
      "All predictions are:  tensor([0])\n"
     ]
    }
   ],
   "source": [
    "for data in small_list:\n",
    "    temp = torch.zeros((45, 45))\n",
    "    for i in range(45): # one per node\n",
    "        temp[i, i] = 1\n",
    "    data.x = temp\n",
    "print(\"signal dimension: \", data.x.shape)\n",
    "whole_analysis(small_list, in_dim=45, hidden_dim=100, num_classes=3)"
   ]
  },
  {
   "cell_type": "markdown",
   "id": "5731f43c-426e-4b00-876c-89e3d07c2f5a",
   "metadata": {},
   "source": [
    "## y as the signal"
   ]
  },
  {
   "cell_type": "code",
   "execution_count": 26,
   "id": "7eea131a-f45c-4b90-8f0c-02311e33620f",
   "metadata": {},
   "outputs": [
    {
     "name": "stdout",
     "output_type": "stream",
     "text": [
      "signal dimension:  torch.Size([45, 1])\n",
      "GCN: \n",
      "\n",
      "loss:  tensor(1.1574, grad_fn=<NllLossBackward>)\n",
      "tensor(1., grad_fn=<SumBackward0>) tensor(16.2284, grad_fn=<SumBackward0>)\n",
      "loss:  tensor(0.5520, grad_fn=<NllLossBackward>)\n",
      "tensor(1.0000, grad_fn=<SumBackward0>) tensor(79.4581, grad_fn=<SumBackward0>)\n",
      "loss:  tensor(0.5519, grad_fn=<NllLossBackward>)\n",
      "tensor(1.0000, grad_fn=<SumBackward0>) tensor(77.2605, grad_fn=<SumBackward0>)\n",
      "Train accuracy: 1.0000\n",
      "All embeddings are all equal:  False\n",
      "\n",
      "GAT\n",
      "\n",
      "loss:  tensor(1.1405, grad_fn=<NllLossBackward>)\n",
      "tensor(1., grad_fn=<SumBackward0>) tensor(14.7141, grad_fn=<SumBackward0>)\n",
      "loss:  tensor(0.5520, grad_fn=<NllLossBackward>)\n",
      "tensor(1., grad_fn=<SumBackward0>) tensor(78.1413, grad_fn=<SumBackward0>)\n",
      "loss:  tensor(0.5519, grad_fn=<NllLossBackward>)\n",
      "tensor(1.0000, grad_fn=<SumBackward0>) tensor(75.7573, grad_fn=<SumBackward0>)\n",
      "Train accuracy: 1.0000\n",
      "All embeddings are all equal:  False\n",
      "\n",
      "GIN: \n",
      "\n",
      "loss:  tensor(1.5514, grad_fn=<NllLossBackward>)\n",
      "tensor(1., grad_fn=<SumBackward0>) tensor(515.1127, grad_fn=<SumBackward0>)\n",
      "loss:  tensor(0.5516, grad_fn=<NllLossBackward>)\n",
      "tensor(1., grad_fn=<SumBackward0>) tensor(177.1126, grad_fn=<SumBackward0>)\n",
      "loss:  tensor(0.5516, grad_fn=<NllLossBackward>)\n",
      "tensor(1., grad_fn=<SumBackward0>) tensor(146.8929, grad_fn=<SumBackward0>)\n",
      "Train accuracy: 1.0000\n",
      "All embeddings are all equal:  False\n",
      "\n",
      "SAGE: \n",
      "\n",
      "loss:  tensor(1.3939, grad_fn=<NllLossBackward>)\n",
      "tensor(1., grad_fn=<SumBackward0>) tensor(60.5771, grad_fn=<SumBackward0>)\n",
      "loss:  tensor(0.5516, grad_fn=<NllLossBackward>)\n",
      "tensor(1.0000, grad_fn=<SumBackward0>) tensor(68.5056, grad_fn=<SumBackward0>)\n",
      "loss:  tensor(0.5518, grad_fn=<NllLossBackward>)\n",
      "tensor(1.0000, grad_fn=<SumBackward0>) tensor(47.9969, grad_fn=<SumBackward0>)\n",
      "Train accuracy: 1.0000\n",
      "All embeddings are all equal:  False\n"
     ]
    }
   ],
   "source": [
    "from torch_geometric.utils import degree\n",
    "for data in small_list:\n",
    "    data.x = data.y.float().repeat((45, 1))\n",
    "print(\"signal dimension: \", data.x.shape)\n",
    "whole_analysis(small_list, in_dim=1, hidden_dim=100, num_classes=3)"
   ]
  }
 ],
 "metadata": {
  "kernelspec": {
   "display_name": "Python 3 (ipykernel)",
   "language": "python",
   "name": "python3"
  },
  "language_info": {
   "codemirror_mode": {
    "name": "ipython",
    "version": 3
   },
   "file_extension": ".py",
   "mimetype": "text/x-python",
   "name": "python",
   "nbconvert_exporter": "python",
   "pygments_lexer": "ipython3",
   "version": "3.7.5"
  }
 },
 "nbformat": 4,
 "nbformat_minor": 5
}
